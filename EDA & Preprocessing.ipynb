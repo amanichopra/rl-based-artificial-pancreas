{
 "cells": [
  {
   "cell_type": "code",
   "execution_count": 95,
   "metadata": {},
   "outputs": [],
   "source": [
    "import pandas as pd\n",
    "import os\n",
    "import re\n",
    "import seaborn as sns\n",
    "from datetime import timedelta\n",
    "import numpy as np\n",
    "from tqdm import tqdm_notebook"
   ]
  },
  {
   "cell_type": "markdown",
   "metadata": {},
   "source": [
    "# Load Data"
   ]
  },
  {
   "cell_type": "code",
   "execution_count": 182,
   "metadata": {},
   "outputs": [
    {
     "name": "stderr",
     "output_type": "stream",
     "text": [
      "<ipython-input-182-47bd0cef1a0b>:6: DtypeWarning: Columns (1) have mixed types. Specify dtype option on import or set low_memory=False.\n",
      "  hr = pd.read_csv(f'{BASE_PATH}/heart_rate_data_12-12-20_8-18-23.csv')\n",
      "<ipython-input-182-47bd0cef1a0b>:8: DtypeWarning: Columns (1) have mixed types. Specify dtype option on import or set low_memory=False.\n",
      "  basal_energy = pd.read_csv(f'{BASE_PATH}/basal_energy_burned_data_12-12-20_8-18-23.csv')\n",
      "<ipython-input-182-47bd0cef1a0b>:9: DtypeWarning: Columns (1) have mixed types. Specify dtype option on import or set low_memory=False.\n",
      "  active_energy = pd.read_csv(f'{BASE_PATH}/active_energy_burned_data_12-12-20_8-18-23.csv')\n"
     ]
    }
   ],
   "source": [
    "BASE_PATH = '/Users/amanchopra/Documents/School/MS/Fall 2023/RL/Final Project/Data/Raw'\n",
    "tslim_1 = pd.read_csv(f'{BASE_PATH}/tslim_therapy_data_2-18-23_5-18-23.csv')\n",
    "tslim_2 = pd.read_csv(f'{BASE_PATH}/tslim_therapy_data_5-18-23_8-18-23.csv')\n",
    "bg_1 = pd.read_csv(f'{BASE_PATH}/bg_data_2-18-23_5-18-23.csv')\n",
    "bg_2 = pd.read_csv(f'{BASE_PATH}/bg_data_5-18-23_8-18-23.csv')\n",
    "hr = pd.read_csv(f'{BASE_PATH}/heart_rate_data_12-12-20_8-18-23.csv')\n",
    "workout = pd.read_csv(f'{BASE_PATH}/workout_data_12-12-20_8-18-23.csv')\n",
    "basal_energy = pd.read_csv(f'{BASE_PATH}/basal_energy_burned_data_12-12-20_8-18-23.csv')\n",
    "active_energy = pd.read_csv(f'{BASE_PATH}/active_energy_burned_data_12-12-20_8-18-23.csv')"
   ]
  },
  {
   "cell_type": "markdown",
   "metadata": {},
   "source": [
    "# Process & Merge"
   ]
  },
  {
   "cell_type": "code",
   "execution_count": 45,
   "metadata": {},
   "outputs": [],
   "source": [
    "def process_tslim(df):\n",
    "    df = df.reset_index()\n",
    "    df.columns = list(df.columns[2:]) + ['', '']\n",
    "    df = df[['CompletionDateTime', 'Description', 'BG', 'InsulinDelivered']]\n",
    "    df['CompletionDateTime'] = pd.to_datetime(df['CompletionDateTime'])\n",
    "    df = df.rename(columns={'CompletionDateTime': 'Time'})\n",
    "    return df\n",
    "\n",
    "def process_bg(df):\n",
    "    df = df.reset_index()\n",
    "    df.columns = list(df.columns[1:]) + ['']\n",
    "    df = df[['EventDateTime', 'Readings (CGM / BGM)']]\n",
    "    df['EventDateTime'] = pd.to_datetime(df['EventDateTime'])\n",
    "    df = df.rename(columns={'EventDateTime': 'Time', 'Readings (CGM / BGM)': 'BG'})\n",
    "    return df\n",
    "\n",
    "def process_body_metrics(df, metric):\n",
    "    df = df.rename(columns={'sourceVersion': 'Time', 'unit': metric})[['Time', metric]].reset_index(drop=True)\n",
    "    df['Time'] = pd.to_datetime(df['Time'])   \n",
    "    return df\n",
    "\n",
    "def process_workout(df):\n",
    "    df = df[['startDate', 'endDate', 'workoutActivityType']]\n",
    "    df['workoutActivityType'] = df['workoutActivityType'].str[len('HKWorkoutActivityType'):]\n",
    "    df['workoutActivityType'] = df['workoutActivityType'].map(lambda x: ' '.join(re.split('(?<=.)(?=[A-Z])', x)))\n",
    "    df = df.rename(columns={'startDate': 'StartTime', 'endDate': 'EndTime', 'workoutActivityType': 'WorkoutName'})\n",
    "    return df\n"
   ]
  },
  {
   "cell_type": "code",
   "execution_count": 183,
   "metadata": {},
   "outputs": [
    {
     "name": "stderr",
     "output_type": "stream",
     "text": [
      "<ipython-input-45-abd72a23a6ed>:24: SettingWithCopyWarning: \n",
      "A value is trying to be set on a copy of a slice from a DataFrame.\n",
      "Try using .loc[row_indexer,col_indexer] = value instead\n",
      "\n",
      "See the caveats in the documentation: https://pandas.pydata.org/pandas-docs/stable/user_guide/indexing.html#returning-a-view-versus-a-copy\n",
      "  df['workoutActivityType'] = df['workoutActivityType'].str[len('HKWorkoutActivityType'):]\n",
      "<ipython-input-45-abd72a23a6ed>:25: SettingWithCopyWarning: \n",
      "A value is trying to be set on a copy of a slice from a DataFrame.\n",
      "Try using .loc[row_indexer,col_indexer] = value instead\n",
      "\n",
      "See the caveats in the documentation: https://pandas.pydata.org/pandas-docs/stable/user_guide/indexing.html#returning-a-view-versus-a-copy\n",
      "  df['workoutActivityType'] = df['workoutActivityType'].map(lambda x: ' '.join(re.split('(?<=.)(?=[A-Z])', x)))\n"
     ]
    }
   ],
   "source": [
    "bg_1 = process_bg(bg_1)\n",
    "bg_2 = process_bg(bg_2)\n",
    "\n",
    "tslim_1 = process_tslim(tslim_1)\n",
    "tslim_2 = process_tslim(tslim_2)\n",
    "\n",
    "hr = process_body_metrics(hr, 'HR')\n",
    "hr['Time'] = hr['Time'].dt.tz_localize(None) # remove timezone\n",
    "basal_energy = process_body_metrics(basal_energy, 'BE')\n",
    "active_energy = process_body_metrics(active_energy, 'AE')\n",
    "\n",
    "workout = process_workout(workout)"
   ]
  },
  {
   "cell_type": "markdown",
   "metadata": {},
   "source": [
    "Let's merge HR, insulin therapy, and BG data."
   ]
  },
  {
   "cell_type": "code",
   "execution_count": 226,
   "metadata": {},
   "outputs": [],
   "source": [
    "bg = pd.concat([bg_1, bg_2]).sort_values('Time')\n",
    "tslim = pd.concat([tslim_1, tslim_2]).sort_values('Time')\n",
    "\n",
    "hr = hr[hr['Time'] > tslim['Time'].min()]\n",
    "\n",
    "merged = pd.concat([bg, tslim, hr]).sort_values('Time').reset_index(drop=True)"
   ]
  },
  {
   "cell_type": "code",
   "execution_count": 234,
   "metadata": {},
   "outputs": [
    {
     "data": {
      "text/plain": [
       "count                        36696\n",
       "mean     0 days 00:07:07.831126008\n",
       "std      0 days 06:17:24.584862979\n",
       "min                0 days 00:00:00\n",
       "25%                0 days 00:05:00\n",
       "50%                0 days 00:05:00\n",
       "75%                0 days 00:05:00\n",
       "max               50 days 04:43:54\n",
       "Name: Time, dtype: object"
      ]
     },
     "execution_count": 234,
     "metadata": {},
     "output_type": "execute_result"
    }
   ],
   "source": [
    "bg['Time'].diff().describe()"
   ]
  },
  {
   "cell_type": "markdown",
   "metadata": {},
   "source": [
    "Seems like BG measurements are collected ~5 min."
   ]
  },
  {
   "cell_type": "markdown",
   "metadata": {},
   "source": [
    "Now, let's make a column for IOB (insulin on board). We can fill it in by assuming that active insulin in the body is absorbed at a linear rate 4 hours from when it was injected."
   ]
  },
  {
   "cell_type": "code",
   "execution_count": 227,
   "metadata": {},
   "outputs": [],
   "source": [
    "merged['IOB'] = 0"
   ]
  },
  {
   "cell_type": "code",
   "execution_count": 228,
   "metadata": {},
   "outputs": [
    {
     "name": "stderr",
     "output_type": "stream",
     "text": [
      "<ipython-input-228-43419f202edc>:4: TqdmDeprecationWarning: This function will be removed in tqdm==5.0.0\n",
      "Please use `tqdm.notebook.tqdm` instead of `tqdm.tqdm_notebook`\n",
      "  for ind, row in tqdm_notebook(merged.iterrows(), total=merged.shape[0]):\n"
     ]
    },
    {
     "data": {
      "application/vnd.jupyter.widget-view+json": {
       "model_id": "3c419eeb8ad54c41980288dc7e3544e3",
       "version_major": 2,
       "version_minor": 0
      },
      "text/plain": [
       "HBox(children=(FloatProgress(value=0.0, max=411669.0), HTML(value='')))"
      ]
     },
     "metadata": {},
     "output_type": "display_data"
    },
    {
     "name": "stdout",
     "output_type": "stream",
     "text": [
      "\n"
     ]
    }
   ],
   "source": [
    "def sec_to_hours(sec):\n",
    "    return sec / 60 / 60\n",
    "\n",
    "for ind, row in tqdm_notebook(merged.iterrows(), total=merged.shape[0]):\n",
    "    if not np.isnan(row['InsulinDelivered']):\n",
    "        lookahead_ind = ind + 1\n",
    "        while True:\n",
    "            sec_elapsed = (merged.loc[lookahead_ind, 'Time'] - row['Time']).total_seconds()\n",
    "            hrs_elapsed = sec_to_hours(sec_elapsed)\n",
    "            if hrs_elapsed > 4:\n",
    "                break\n",
    "            merged.loc[lookahead_ind, 'IOB'] += row['InsulinDelivered'] * (1 - (hrs_elapsed / 4))\n",
    "            lookahead_ind += 1"
   ]
  },
  {
   "cell_type": "markdown",
   "metadata": {},
   "source": [
    "Let's round the timestamps to the nearest 5 minutes and aggregate."
   ]
  },
  {
   "cell_type": "code",
   "execution_count": 229,
   "metadata": {},
   "outputs": [
    {
     "data": {
      "text/html": [
       "<div>\n",
       "<style scoped>\n",
       "    .dataframe tbody tr th:only-of-type {\n",
       "        vertical-align: middle;\n",
       "    }\n",
       "\n",
       "    .dataframe tbody tr th {\n",
       "        vertical-align: top;\n",
       "    }\n",
       "\n",
       "    .dataframe thead th {\n",
       "        text-align: right;\n",
       "    }\n",
       "</style>\n",
       "<table border=\"1\" class=\"dataframe\">\n",
       "  <thead>\n",
       "    <tr style=\"text-align: right;\">\n",
       "      <th></th>\n",
       "      <th>Time</th>\n",
       "      <th>BG</th>\n",
       "      <th>HR</th>\n",
       "      <th>InsulinDelivered</th>\n",
       "      <th>IOB</th>\n",
       "    </tr>\n",
       "  </thead>\n",
       "  <tbody>\n",
       "    <tr>\n",
       "      <th>0</th>\n",
       "      <td>2023-02-18 06:55:00</td>\n",
       "      <td>250.0</td>\n",
       "      <td>NaN</td>\n",
       "      <td>0.0</td>\n",
       "      <td>0.0</td>\n",
       "    </tr>\n",
       "    <tr>\n",
       "      <th>1</th>\n",
       "      <td>2023-02-18 07:00:00</td>\n",
       "      <td>242.0</td>\n",
       "      <td>NaN</td>\n",
       "      <td>0.0</td>\n",
       "      <td>0.0</td>\n",
       "    </tr>\n",
       "    <tr>\n",
       "      <th>2</th>\n",
       "      <td>2023-02-18 07:05:00</td>\n",
       "      <td>239.0</td>\n",
       "      <td>NaN</td>\n",
       "      <td>0.0</td>\n",
       "      <td>0.0</td>\n",
       "    </tr>\n",
       "    <tr>\n",
       "      <th>3</th>\n",
       "      <td>2023-02-18 07:10:00</td>\n",
       "      <td>237.0</td>\n",
       "      <td>NaN</td>\n",
       "      <td>0.0</td>\n",
       "      <td>0.0</td>\n",
       "    </tr>\n",
       "    <tr>\n",
       "      <th>4</th>\n",
       "      <td>2023-02-18 07:15:00</td>\n",
       "      <td>237.0</td>\n",
       "      <td>NaN</td>\n",
       "      <td>0.0</td>\n",
       "      <td>0.0</td>\n",
       "    </tr>\n",
       "    <tr>\n",
       "      <th>...</th>\n",
       "      <td>...</td>\n",
       "      <td>...</td>\n",
       "      <td>...</td>\n",
       "      <td>...</td>\n",
       "      <td>...</td>\n",
       "    </tr>\n",
       "    <tr>\n",
       "      <th>45757</th>\n",
       "      <td>2023-08-19 18:05:00</td>\n",
       "      <td>NaN</td>\n",
       "      <td>94.000</td>\n",
       "      <td>0.0</td>\n",
       "      <td>0.0</td>\n",
       "    </tr>\n",
       "    <tr>\n",
       "      <th>45758</th>\n",
       "      <td>2023-08-19 18:20:00</td>\n",
       "      <td>NaN</td>\n",
       "      <td>78.500</td>\n",
       "      <td>0.0</td>\n",
       "      <td>0.0</td>\n",
       "    </tr>\n",
       "    <tr>\n",
       "      <th>45759</th>\n",
       "      <td>2023-08-19 18:25:00</td>\n",
       "      <td>NaN</td>\n",
       "      <td>66.785</td>\n",
       "      <td>0.0</td>\n",
       "      <td>0.0</td>\n",
       "    </tr>\n",
       "    <tr>\n",
       "      <th>45760</th>\n",
       "      <td>2023-08-19 18:30:00</td>\n",
       "      <td>NaN</td>\n",
       "      <td>71.000</td>\n",
       "      <td>0.0</td>\n",
       "      <td>0.0</td>\n",
       "    </tr>\n",
       "    <tr>\n",
       "      <th>45761</th>\n",
       "      <td>2023-08-19 18:35:00</td>\n",
       "      <td>NaN</td>\n",
       "      <td>66.000</td>\n",
       "      <td>0.0</td>\n",
       "      <td>0.0</td>\n",
       "    </tr>\n",
       "  </tbody>\n",
       "</table>\n",
       "<p>45762 rows × 5 columns</p>\n",
       "</div>"
      ],
      "text/plain": [
       "                     Time     BG      HR  InsulinDelivered  IOB\n",
       "0     2023-02-18 06:55:00  250.0     NaN               0.0  0.0\n",
       "1     2023-02-18 07:00:00  242.0     NaN               0.0  0.0\n",
       "2     2023-02-18 07:05:00  239.0     NaN               0.0  0.0\n",
       "3     2023-02-18 07:10:00  237.0     NaN               0.0  0.0\n",
       "4     2023-02-18 07:15:00  237.0     NaN               0.0  0.0\n",
       "...                   ...    ...     ...               ...  ...\n",
       "45757 2023-08-19 18:05:00    NaN  94.000               0.0  0.0\n",
       "45758 2023-08-19 18:20:00    NaN  78.500               0.0  0.0\n",
       "45759 2023-08-19 18:25:00    NaN  66.785               0.0  0.0\n",
       "45760 2023-08-19 18:30:00    NaN  71.000               0.0  0.0\n",
       "45761 2023-08-19 18:35:00    NaN  66.000               0.0  0.0\n",
       "\n",
       "[45762 rows x 5 columns]"
      ]
     },
     "execution_count": 229,
     "metadata": {},
     "output_type": "execute_result"
    }
   ],
   "source": [
    "merged['Time'] = merged['Time'].dt.round('5min')\n",
    "merged = merged.groupby('Time').agg({'BG': np.nanmean, 'HR': np.nanmean, 'InsulinDelivered': np.nansum, 'IOB': lambda x: x.dropna().iloc[-1]}).reset_index()\n",
    "merged"
   ]
  },
  {
   "cell_type": "markdown",
   "metadata": {},
   "source": [
    "Lastly, let's ffill everything. This may be naive, but we'll do some quality checks after building the tx model."
   ]
  },
  {
   "cell_type": "code",
   "execution_count": 275,
   "metadata": {},
   "outputs": [],
   "source": [
    "merged = merged.ffill()"
   ]
  },
  {
   "cell_type": "code",
   "execution_count": 276,
   "metadata": {},
   "outputs": [],
   "source": [
    "BASE_PATH = '/Users/amanchopra/Documents/School/MS/Fall 2023/RL/Final Project/Data/Processed'\n",
    "final_merged = merged\n",
    "final_merged.to_csv(f'{BASE_PATH}/merged.csv')"
   ]
  },
  {
   "cell_type": "markdown",
   "metadata": {},
   "source": [
    "# EDA"
   ]
  },
  {
   "cell_type": "code",
   "execution_count": 260,
   "metadata": {},
   "outputs": [
    {
     "data": {
      "text/html": [
       "<div>\n",
       "<style scoped>\n",
       "    .dataframe tbody tr th:only-of-type {\n",
       "        vertical-align: middle;\n",
       "    }\n",
       "\n",
       "    .dataframe tbody tr th {\n",
       "        vertical-align: top;\n",
       "    }\n",
       "\n",
       "    .dataframe thead th {\n",
       "        text-align: right;\n",
       "    }\n",
       "</style>\n",
       "<table border=\"1\" class=\"dataframe\">\n",
       "  <thead>\n",
       "    <tr style=\"text-align: right;\">\n",
       "      <th></th>\n",
       "      <th>Time</th>\n",
       "      <th>BG</th>\n",
       "      <th>HR</th>\n",
       "      <th>InsulinDelivered</th>\n",
       "      <th>IOB</th>\n",
       "    </tr>\n",
       "  </thead>\n",
       "  <tbody>\n",
       "    <tr>\n",
       "      <th>0</th>\n",
       "      <td>2023-02-18 06:55:00</td>\n",
       "      <td>250.0</td>\n",
       "      <td>NaN</td>\n",
       "      <td>0.0</td>\n",
       "      <td>0.0</td>\n",
       "    </tr>\n",
       "    <tr>\n",
       "      <th>1</th>\n",
       "      <td>2023-02-18 07:00:00</td>\n",
       "      <td>242.0</td>\n",
       "      <td>NaN</td>\n",
       "      <td>0.0</td>\n",
       "      <td>0.0</td>\n",
       "    </tr>\n",
       "    <tr>\n",
       "      <th>2</th>\n",
       "      <td>2023-02-18 07:05:00</td>\n",
       "      <td>239.0</td>\n",
       "      <td>NaN</td>\n",
       "      <td>0.0</td>\n",
       "      <td>0.0</td>\n",
       "    </tr>\n",
       "    <tr>\n",
       "      <th>3</th>\n",
       "      <td>2023-02-18 07:10:00</td>\n",
       "      <td>237.0</td>\n",
       "      <td>NaN</td>\n",
       "      <td>0.0</td>\n",
       "      <td>0.0</td>\n",
       "    </tr>\n",
       "    <tr>\n",
       "      <th>4</th>\n",
       "      <td>2023-02-18 07:15:00</td>\n",
       "      <td>237.0</td>\n",
       "      <td>NaN</td>\n",
       "      <td>0.0</td>\n",
       "      <td>0.0</td>\n",
       "    </tr>\n",
       "    <tr>\n",
       "      <th>...</th>\n",
       "      <td>...</td>\n",
       "      <td>...</td>\n",
       "      <td>...</td>\n",
       "      <td>...</td>\n",
       "      <td>...</td>\n",
       "    </tr>\n",
       "    <tr>\n",
       "      <th>45757</th>\n",
       "      <td>2023-08-19 18:05:00</td>\n",
       "      <td>NaN</td>\n",
       "      <td>94.000</td>\n",
       "      <td>0.0</td>\n",
       "      <td>0.0</td>\n",
       "    </tr>\n",
       "    <tr>\n",
       "      <th>45758</th>\n",
       "      <td>2023-08-19 18:20:00</td>\n",
       "      <td>NaN</td>\n",
       "      <td>78.500</td>\n",
       "      <td>0.0</td>\n",
       "      <td>0.0</td>\n",
       "    </tr>\n",
       "    <tr>\n",
       "      <th>45759</th>\n",
       "      <td>2023-08-19 18:25:00</td>\n",
       "      <td>NaN</td>\n",
       "      <td>66.785</td>\n",
       "      <td>0.0</td>\n",
       "      <td>0.0</td>\n",
       "    </tr>\n",
       "    <tr>\n",
       "      <th>45760</th>\n",
       "      <td>2023-08-19 18:30:00</td>\n",
       "      <td>NaN</td>\n",
       "      <td>71.000</td>\n",
       "      <td>0.0</td>\n",
       "      <td>0.0</td>\n",
       "    </tr>\n",
       "    <tr>\n",
       "      <th>45761</th>\n",
       "      <td>2023-08-19 18:35:00</td>\n",
       "      <td>NaN</td>\n",
       "      <td>66.000</td>\n",
       "      <td>0.0</td>\n",
       "      <td>0.0</td>\n",
       "    </tr>\n",
       "  </tbody>\n",
       "</table>\n",
       "<p>45762 rows × 5 columns</p>\n",
       "</div>"
      ],
      "text/plain": [
       "                      Time     BG      HR  InsulinDelivered  IOB\n",
       "0      2023-02-18 06:55:00  250.0     NaN               0.0  0.0\n",
       "1      2023-02-18 07:00:00  242.0     NaN               0.0  0.0\n",
       "2      2023-02-18 07:05:00  239.0     NaN               0.0  0.0\n",
       "3      2023-02-18 07:10:00  237.0     NaN               0.0  0.0\n",
       "4      2023-02-18 07:15:00  237.0     NaN               0.0  0.0\n",
       "...                    ...    ...     ...               ...  ...\n",
       "45757  2023-08-19 18:05:00    NaN  94.000               0.0  0.0\n",
       "45758  2023-08-19 18:20:00    NaN  78.500               0.0  0.0\n",
       "45759  2023-08-19 18:25:00    NaN  66.785               0.0  0.0\n",
       "45760  2023-08-19 18:30:00    NaN  71.000               0.0  0.0\n",
       "45761  2023-08-19 18:35:00    NaN  66.000               0.0  0.0\n",
       "\n",
       "[45762 rows x 5 columns]"
      ]
     },
     "execution_count": 260,
     "metadata": {},
     "output_type": "execute_result"
    }
   ],
   "source": [
    "BASE_PATH = '/Users/amanchopra/Documents/School/MS/Fall 2023/RL/Final Project/Data/Processed'\n",
    "final_merged = pd.read_csv(f'{BASE_PATH}/merged.csv', index_col=0)\n",
    "final_merged"
   ]
  },
  {
   "cell_type": "code",
   "execution_count": 239,
   "metadata": {},
   "outputs": [
    {
     "data": {
      "text/plain": [
       "<matplotlib.axes._subplots.AxesSubplot at 0x7fe7608983a0>"
      ]
     },
     "execution_count": 239,
     "metadata": {},
     "output_type": "execute_result"
    },
    {
     "data": {
      "image/png": "[encoded data removed]",
      "text/plain": [
       "<Figure size 432x288 with 2 Axes>"
      ]
     },
     "metadata": {
      "needs_background": "light"
     },
     "output_type": "display_data"
    }
   ],
   "source": [
    "sns.heatmap(final_merged.corr())"
   ]
  },
  {
   "cell_type": "code",
   "execution_count": 240,
   "metadata": {},
   "outputs": [
    {
     "name": "stdout",
     "output_type": "stream",
     "text": [
      "count    39151.000000\n",
      "mean        66.308811\n",
      "std         19.709397\n",
      "min         39.000000\n",
      "25%         52.000000\n",
      "50%         61.216667\n",
      "75%         74.000000\n",
      "max        182.886364\n",
      "Name: HR, dtype: float64\n"
     ]
    },
    {
     "name": "stderr",
     "output_type": "stream",
     "text": [
      "/opt/anaconda3/lib/python3.8/site-packages/seaborn/_decorators.py:36: FutureWarning: Pass the following variable as a keyword arg: x. From version 0.12, the only valid positional argument will be `data`, and passing other arguments without an explicit keyword will result in an error or misinterpretation.\n",
      "  warnings.warn(\n"
     ]
    },
    {
     "data": {
      "text/plain": [
       "<matplotlib.axes._subplots.AxesSubplot at 0x7fe7f344ee80>"
      ]
     },
     "execution_count": 240,
     "metadata": {},
     "output_type": "execute_result"
    },
    {
     "data": {
      "image/png": "[encoded data removed]",
      "text/plain": [
       "<Figure size 432x288 with 1 Axes>"
      ]
     },
     "metadata": {
      "needs_background": "light"
     },
     "output_type": "display_data"
    }
   ],
   "source": [
    "print(final_merged['HR'].describe())\n",
    "sns.violinplot(final_merged['HR'])"
   ]
  },
  {
   "cell_type": "code",
   "execution_count": 241,
   "metadata": {},
   "outputs": [
    {
     "name": "stdout",
     "output_type": "stream",
     "text": [
      "count    36161.000000\n",
      "mean       155.135177\n",
      "std         58.557158\n",
      "min         40.000000\n",
      "25%        113.000000\n",
      "50%        145.000000\n",
      "75%        188.000000\n",
      "max        402.000000\n",
      "Name: BG, dtype: float64\n"
     ]
    },
    {
     "name": "stderr",
     "output_type": "stream",
     "text": [
      "/opt/anaconda3/lib/python3.8/site-packages/seaborn/_decorators.py:36: FutureWarning: Pass the following variable as a keyword arg: x. From version 0.12, the only valid positional argument will be `data`, and passing other arguments without an explicit keyword will result in an error or misinterpretation.\n",
      "  warnings.warn(\n"
     ]
    },
    {
     "data": {
      "text/plain": [
       "<matplotlib.axes._subplots.AxesSubplot at 0x7fe7770577f0>"
      ]
     },
     "execution_count": 241,
     "metadata": {},
     "output_type": "execute_result"
    },
    {
     "data": {
      "image/png": "[encoded data removed]",
      "text/plain": [
       "<Figure size 432x288 with 1 Axes>"
      ]
     },
     "metadata": {
      "needs_background": "light"
     },
     "output_type": "display_data"
    }
   ],
   "source": [
    "print(final_merged['BG'].describe())\n",
    "sns.violinplot(final_merged['BG'])"
   ]
  },
  {
   "cell_type": "code",
   "execution_count": 242,
   "metadata": {},
   "outputs": [
    {
     "name": "stdout",
     "output_type": "stream",
     "text": [
      "count    45762.000000\n",
      "mean         0.051344\n",
      "std          0.389872\n",
      "min          0.000000\n",
      "25%          0.000000\n",
      "50%          0.000000\n",
      "75%          0.000000\n",
      "max         11.060000\n",
      "Name: InsulinDelivered, dtype: float64\n"
     ]
    },
    {
     "name": "stderr",
     "output_type": "stream",
     "text": [
      "/opt/anaconda3/lib/python3.8/site-packages/seaborn/_decorators.py:36: FutureWarning: Pass the following variable as a keyword arg: x. From version 0.12, the only valid positional argument will be `data`, and passing other arguments without an explicit keyword will result in an error or misinterpretation.\n",
      "  warnings.warn(\n"
     ]
    },
    {
     "data": {
      "text/plain": [
       "<matplotlib.axes._subplots.AxesSubplot at 0x7fe7f3051a00>"
      ]
     },
     "execution_count": 242,
     "metadata": {},
     "output_type": "execute_result"
    },
    {
     "data": {
      "image/png": "[encoded data removed]",
      "text/plain": [
       "<Figure size 432x288 with 1 Axes>"
      ]
     },
     "metadata": {
      "needs_background": "light"
     },
     "output_type": "display_data"
    }
   ],
   "source": [
    "print(final_merged['InsulinDelivered'].describe())\n",
    "sns.violinplot(final_merged['InsulinDelivered'])"
   ]
  },
  {
   "cell_type": "markdown",
   "metadata": {},
   "source": [
    "# Construct Transition Model"
   ]
  },
  {
   "cell_type": "code",
   "execution_count": 309,
   "metadata": {},
   "outputs": [
    {
     "data": {
      "text/html": [
       "<div>\n",
       "<style scoped>\n",
       "    .dataframe tbody tr th:only-of-type {\n",
       "        vertical-align: middle;\n",
       "    }\n",
       "\n",
       "    .dataframe tbody tr th {\n",
       "        vertical-align: top;\n",
       "    }\n",
       "\n",
       "    .dataframe thead th {\n",
       "        text-align: right;\n",
       "    }\n",
       "</style>\n",
       "<table border=\"1\" class=\"dataframe\">\n",
       "  <thead>\n",
       "    <tr style=\"text-align: right;\">\n",
       "      <th></th>\n",
       "      <th>Time</th>\n",
       "      <th>BG</th>\n",
       "      <th>HR</th>\n",
       "      <th>InsulinDelivered</th>\n",
       "      <th>IOB</th>\n",
       "    </tr>\n",
       "  </thead>\n",
       "  <tbody>\n",
       "    <tr>\n",
       "      <th>0</th>\n",
       "      <td>2023-02-18 06:55:00</td>\n",
       "      <td>250.0</td>\n",
       "      <td>NaN</td>\n",
       "      <td>0.0</td>\n",
       "      <td>0.0</td>\n",
       "    </tr>\n",
       "    <tr>\n",
       "      <th>1</th>\n",
       "      <td>2023-02-18 07:00:00</td>\n",
       "      <td>242.0</td>\n",
       "      <td>NaN</td>\n",
       "      <td>0.0</td>\n",
       "      <td>0.0</td>\n",
       "    </tr>\n",
       "    <tr>\n",
       "      <th>2</th>\n",
       "      <td>2023-02-18 07:05:00</td>\n",
       "      <td>239.0</td>\n",
       "      <td>NaN</td>\n",
       "      <td>0.0</td>\n",
       "      <td>0.0</td>\n",
       "    </tr>\n",
       "    <tr>\n",
       "      <th>3</th>\n",
       "      <td>2023-02-18 07:10:00</td>\n",
       "      <td>237.0</td>\n",
       "      <td>NaN</td>\n",
       "      <td>0.0</td>\n",
       "      <td>0.0</td>\n",
       "    </tr>\n",
       "    <tr>\n",
       "      <th>4</th>\n",
       "      <td>2023-02-18 07:15:00</td>\n",
       "      <td>237.0</td>\n",
       "      <td>NaN</td>\n",
       "      <td>0.0</td>\n",
       "      <td>0.0</td>\n",
       "    </tr>\n",
       "    <tr>\n",
       "      <th>...</th>\n",
       "      <td>...</td>\n",
       "      <td>...</td>\n",
       "      <td>...</td>\n",
       "      <td>...</td>\n",
       "      <td>...</td>\n",
       "    </tr>\n",
       "    <tr>\n",
       "      <th>45757</th>\n",
       "      <td>2023-08-19 18:05:00</td>\n",
       "      <td>63.0</td>\n",
       "      <td>94.000</td>\n",
       "      <td>0.0</td>\n",
       "      <td>0.0</td>\n",
       "    </tr>\n",
       "    <tr>\n",
       "      <th>45758</th>\n",
       "      <td>2023-08-19 18:20:00</td>\n",
       "      <td>63.0</td>\n",
       "      <td>78.500</td>\n",
       "      <td>0.0</td>\n",
       "      <td>0.0</td>\n",
       "    </tr>\n",
       "    <tr>\n",
       "      <th>45759</th>\n",
       "      <td>2023-08-19 18:25:00</td>\n",
       "      <td>63.0</td>\n",
       "      <td>66.785</td>\n",
       "      <td>0.0</td>\n",
       "      <td>0.0</td>\n",
       "    </tr>\n",
       "    <tr>\n",
       "      <th>45760</th>\n",
       "      <td>2023-08-19 18:30:00</td>\n",
       "      <td>63.0</td>\n",
       "      <td>71.000</td>\n",
       "      <td>0.0</td>\n",
       "      <td>0.0</td>\n",
       "    </tr>\n",
       "    <tr>\n",
       "      <th>45761</th>\n",
       "      <td>2023-08-19 18:35:00</td>\n",
       "      <td>63.0</td>\n",
       "      <td>66.000</td>\n",
       "      <td>0.0</td>\n",
       "      <td>0.0</td>\n",
       "    </tr>\n",
       "  </tbody>\n",
       "</table>\n",
       "<p>45762 rows × 5 columns</p>\n",
       "</div>"
      ],
      "text/plain": [
       "                      Time     BG      HR  InsulinDelivered  IOB\n",
       "0      2023-02-18 06:55:00  250.0     NaN               0.0  0.0\n",
       "1      2023-02-18 07:00:00  242.0     NaN               0.0  0.0\n",
       "2      2023-02-18 07:05:00  239.0     NaN               0.0  0.0\n",
       "3      2023-02-18 07:10:00  237.0     NaN               0.0  0.0\n",
       "4      2023-02-18 07:15:00  237.0     NaN               0.0  0.0\n",
       "...                    ...    ...     ...               ...  ...\n",
       "45757  2023-08-19 18:05:00   63.0  94.000               0.0  0.0\n",
       "45758  2023-08-19 18:20:00   63.0  78.500               0.0  0.0\n",
       "45759  2023-08-19 18:25:00   63.0  66.785               0.0  0.0\n",
       "45760  2023-08-19 18:30:00   63.0  71.000               0.0  0.0\n",
       "45761  2023-08-19 18:35:00   63.0  66.000               0.0  0.0\n",
       "\n",
       "[45762 rows x 5 columns]"
      ]
     },
     "execution_count": 309,
     "metadata": {},
     "output_type": "execute_result"
    }
   ],
   "source": [
    "BASE_PATH = '/Users/amanchopra/Documents/School/MS/Fall 2023/RL/Final Project/Data/Processed'\n",
    "final_merged = pd.read_csv(f'{BASE_PATH}/merged.csv', index_col=0)\n",
    "final_merged"
   ]
  },
  {
   "cell_type": "markdown",
   "metadata": {},
   "source": [
    "If `s` only included the past 5 minutes of blood sugar, the next state `s'` wouldn't be much different from `s` since it takes 1-2 hours for insulin to peak. Therefore, it would be best to include at least an hour of blood sugar history. We can make our transition `T(s, a, s')` model as follows:\n",
    "- `s` contains the past 1.5 hour's blood sugar readings, the past 1.5 hour's HR readings, and the next 1.5 hour's IOB.\n",
    "- `a` contains a bolus amount.\n",
    "- `s'` contains the next 1.5 hour's blood sugar readings, the next 1.5 hour's HR readings, and the next 1.5 hour's IOB. "
   ]
  },
  {
   "cell_type": "code",
   "execution_count": 318,
   "metadata": {},
   "outputs": [],
   "source": [
    "def make_transition_model(final_merged, timesteps=2):\n",
    "    for timestep in range(1, 2*timesteps):\n",
    "        final_merged[f'BG_t{timestep}'] = final_merged['BG'].shift(timestep)\n",
    "        final_merged[f'HR_t{timestep}'] = final_merged['HR'].shift(timestep)\n",
    "        final_merged[f'IOB_t{timestep}'] = final_merged['IOB'].shift(timestep)\n",
    "\n",
    "    final_merged[f'InsulinDelivered'] = final_merged['InsulinDelivered'].shift(timesteps-1)\n",
    "    final_merged = final_merged.rename(columns={'BG': 'BG_t0', 'HR': 'HR_t0', 'IOB': 'IOB_t0'})\n",
    "    col_order = [f'BG_t{t}' for t in range(timesteps)] + [f'HR_t{t}' for t in range(timesteps)] + [f'IOB_t{t}' for t in range(timesteps)] + [f'InsulinDelivered'] + [f'BG_t{t}' for t in range(timesteps, 2*timesteps)] + [f'HR_t{t}' for t in range(timesteps, 2*timesteps)] + [f'IOB_t{t}' for t in range(timesteps, 2*timesteps)]\n",
    "    final_merged = final_merged[col_order]\n",
    "    final_merged = final_merged.dropna(axis=0).reset_index(drop=True)\n",
    "    return final_merged"
   ]
  },
  {
   "cell_type": "code",
   "execution_count": 319,
   "metadata": {},
   "outputs": [
    {
     "name": "stderr",
     "output_type": "stream",
     "text": [
      "<ipython-input-318-e116529d3b2e>:4: PerformanceWarning: DataFrame is highly fragmented.  This is usually the result of calling `frame.insert` many times, which has poor performance.  Consider joining all columns at once using pd.concat(axis=1) instead. To get a de-fragmented frame, use `newframe = frame.copy()`\n",
      "  final_merged[f'HR_t{timestep}'] = final_merged['HR'].shift(timestep)\n",
      "<ipython-input-318-e116529d3b2e>:5: PerformanceWarning: DataFrame is highly fragmented.  This is usually the result of calling `frame.insert` many times, which has poor performance.  Consider joining all columns at once using pd.concat(axis=1) instead. To get a de-fragmented frame, use `newframe = frame.copy()`\n",
      "  final_merged[f'IOB_t{timestep}'] = final_merged['IOB'].shift(timestep)\n",
      "<ipython-input-318-e116529d3b2e>:3: PerformanceWarning: DataFrame is highly fragmented.  This is usually the result of calling `frame.insert` many times, which has poor performance.  Consider joining all columns at once using pd.concat(axis=1) instead. To get a de-fragmented frame, use `newframe = frame.copy()`\n",
      "  final_merged[f'BG_t{timestep}'] = final_merged['BG'].shift(timestep)\n",
      "<ipython-input-318-e116529d3b2e>:4: PerformanceWarning: DataFrame is highly fragmented.  This is usually the result of calling `frame.insert` many times, which has poor performance.  Consider joining all columns at once using pd.concat(axis=1) instead. To get a de-fragmented frame, use `newframe = frame.copy()`\n",
      "  final_merged[f'HR_t{timestep}'] = final_merged['HR'].shift(timestep)\n",
      "<ipython-input-318-e116529d3b2e>:5: PerformanceWarning: DataFrame is highly fragmented.  This is usually the result of calling `frame.insert` many times, which has poor performance.  Consider joining all columns at once using pd.concat(axis=1) instead. To get a de-fragmented frame, use `newframe = frame.copy()`\n",
      "  final_merged[f'IOB_t{timestep}'] = final_merged['IOB'].shift(timestep)\n",
      "<ipython-input-318-e116529d3b2e>:3: PerformanceWarning: DataFrame is highly fragmented.  This is usually the result of calling `frame.insert` many times, which has poor performance.  Consider joining all columns at once using pd.concat(axis=1) instead. To get a de-fragmented frame, use `newframe = frame.copy()`\n",
      "  final_merged[f'BG_t{timestep}'] = final_merged['BG'].shift(timestep)\n",
      "<ipython-input-318-e116529d3b2e>:4: PerformanceWarning: DataFrame is highly fragmented.  This is usually the result of calling `frame.insert` many times, which has poor performance.  Consider joining all columns at once using pd.concat(axis=1) instead. To get a de-fragmented frame, use `newframe = frame.copy()`\n",
      "  final_merged[f'HR_t{timestep}'] = final_merged['HR'].shift(timestep)\n",
      "<ipython-input-318-e116529d3b2e>:5: PerformanceWarning: DataFrame is highly fragmented.  This is usually the result of calling `frame.insert` many times, which has poor performance.  Consider joining all columns at once using pd.concat(axis=1) instead. To get a de-fragmented frame, use `newframe = frame.copy()`\n",
      "  final_merged[f'IOB_t{timestep}'] = final_merged['IOB'].shift(timestep)\n"
     ]
    }
   ],
   "source": [
    "tx_model = make_transition_model(final_merged, timesteps=18)"
   ]
  },
  {
   "cell_type": "code",
   "execution_count": 334,
   "metadata": {},
   "outputs": [],
   "source": [
    "# with pd.option_context('display.max_rows', None, 'display.max_columns', None):\n",
    "#         display(tx_model[tx_model['InsulinDelivered'] > 10].T)"
   ]
  },
  {
   "cell_type": "code",
   "execution_count": 321,
   "metadata": {},
   "outputs": [],
   "source": [
    "BASE_PATH = '/Users/amanchopra/Documents/School/MS/Fall 2023/RL/Final Project/Data/Processed'\n",
    "tx_model.to_csv(f'{BASE_PATH}/transition_model_90_min_history.csv')"
   ]
  },
  {
   "cell_type": "markdown",
   "metadata": {},
   "source": [
    "# Determine Reward"
   ]
  },
  {
   "cell_type": "markdown",
   "metadata": {},
   "source": [
    "Inspired by [this](https://journals.plos.org/plosone/article?id=10.1371/journal.pone.0274608) paper, we use a simple reward to “encourage large episodes, which results in extended periods within adequate BG level regimes.” A reward of 1 is given if BG is in range; 0 if it's in an acceptable range; and -10 if it's severly out of range (causing hypo/hyperglycemia). "
   ]
  },
  {
   "cell_type": "code",
   "execution_count": 322,
   "metadata": {},
   "outputs": [],
   "source": [
    "BASE_PATH = '/Users/amanchopra/Documents/School/MS/Fall 2023/RL/Final Project/Data/Processed'\n",
    "tx_model = pd.read_csv(f'{BASE_PATH}/transition_model_90_min_history.csv', index_col=0)"
   ]
  },
  {
   "cell_type": "code",
   "execution_count": 332,
   "metadata": {},
   "outputs": [],
   "source": [
    "most_recent_bg_ind = max([int(col[4:]) for col in tx_model.columns if 'BG' in col])\n",
    "target_bg_range_low = 90\n",
    "target_bg_range_high = 130\n",
    "\n",
    "def reward(bg):\n",
    "    if bg > target_bg_range_low and bg < target_bg_range_high:\n",
    "        return 1\n",
    "    elif bg > 50 or bg < 250:\n",
    "        return 0\n",
    "    else: \n",
    "        return -10\n",
    "\n",
    "tx_model['reward'] = tx_model.apply(lambda x: reward(x[f'BG_t{most_recent_bg_ind}']), axis=1)"
   ]
  },
  {
   "cell_type": "code",
   "execution_count": 333,
   "metadata": {},
   "outputs": [],
   "source": [
    "BASE_PATH = '/Users/amanchopra/Documents/School/MS/Fall 2023/RL/Final Project/Data/Processed'\n",
    "tx_model.to_csv(f'{BASE_PATH}/transition_model_90_min_history_rewards.csv')"
   ]
  }
 ],
 "metadata": {
  "kernelspec": {
   "display_name": "base",
   "language": "python",
   "name": "python3"
  },
  "language_info": {
   "codemirror_mode": {
    "name": "ipython",
    "version": 3
   },
   "file_extension": ".py",
   "mimetype": "text/x-python",
   "name": "python",
   "nbconvert_exporter": "python",
   "pygments_lexer": "ipython3",
   "version": "3.8.3"
  },
  "orig_nbformat": 4
 },
 "nbformat": 4,
 "nbformat_minor": 2
}
