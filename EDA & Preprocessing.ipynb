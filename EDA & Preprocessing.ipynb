{
 "cells": [
  {
   "cell_type": "code",
   "execution_count": 2,
   "metadata": {},
   "outputs": [],
   "source": [
    "import pandas as pd\n",
    "import os"
   ]
  },
  {
   "cell_type": "markdown",
   "metadata": {},
   "source": [
    "# Load Data"
   ]
  },
  {
   "cell_type": "code",
   "execution_count": 84,
   "metadata": {},
   "outputs": [
    {
     "name": "stderr",
     "output_type": "stream",
     "text": [
      "<ipython-input-84-a32670eebd6d>:6: DtypeWarning: Columns (1) have mixed types. Specify dtype option on import or set low_memory=False.\n",
      "  hr = pd.read_csv(f'{BASE_PATH}/heart_rate_data_12-12-20_8-18-23.csv')\n",
      "<ipython-input-84-a32670eebd6d>:8: DtypeWarning: Columns (1) have mixed types. Specify dtype option on import or set low_memory=False.\n",
      "  basal_energy = pd.read_csv(f'{BASE_PATH}/basal_energy_burned_data_12-12-20_8-18-23.csv')\n",
      "<ipython-input-84-a32670eebd6d>:9: DtypeWarning: Columns (1) have mixed types. Specify dtype option on import or set low_memory=False.\n",
      "  active_energy = pd.read_csv(f'{BASE_PATH}/active_energy_burned_data_12-12-20_8-18-23.csv')\n"
     ]
    }
   ],
   "source": [
    "BASE_PATH = '/Users/amanchopra/Documents/School/MS/Fall 2023/RL/Final Project/Data/Raw'\n",
    "tslim_1 = pd.read_csv(f'{BASE_PATH}/tslim_therapy_data_2-18-23_5-18-23.csv')\n",
    "tslim_2 = pd.read_csv(f'{BASE_PATH}/tslim_therapy_data_5-18-23_8-18-23.csv')\n",
    "bg_1 = pd.read_csv(f'{BASE_PATH}/bg_data_2-18-23_5-18-23.csv')\n",
    "bg_2 = pd.read_csv(f'{BASE_PATH}/bg_data_5-18-23_8-18-23.csv')\n",
    "hr = pd.read_csv(f'{BASE_PATH}/heart_rate_data_12-12-20_8-18-23.csv')\n",
    "workout = pd.read_csv(f'{BASE_PATH}/workout_data_12-12-20_8-18-23.csv')\n",
    "basal_energy = pd.read_csv(f'{BASE_PATH}/basal_energy_burned_data_12-12-20_8-18-23.csv')\n",
    "active_energy = pd.read_csv(f'{BASE_PATH}/active_energy_burned_data_12-12-20_8-18-23.csv')"
   ]
  },
  {
   "cell_type": "markdown",
   "metadata": {},
   "source": [
    "# Process"
   ]
  },
  {
   "cell_type": "code",
   "execution_count": 138,
   "metadata": {},
   "outputs": [],
   "source": [
    "import re\n",
    "\n",
    "def process_tslim(df):\n",
    "    df = df.reset_index()\n",
    "    df.columns = list(df.columns[2:]) + ['', '']\n",
    "    df = df[['CompletionDateTime', 'Description', 'BG', 'InsulinDelivered']]\n",
    "    df['CompletionDateTime'] = pd.to_datetime(df['CompletionDateTime'])\n",
    "    df = df.rename(columns={'CompletionDateTime': 'Time'})\n",
    "    return df\n",
    "\n",
    "def process_bg(df):\n",
    "    df = df.reset_index()\n",
    "    df.columns = list(df.columns[1:]) + ['']\n",
    "    df = df[['EventDateTime', 'Readings (CGM / BGM)']]\n",
    "    df['EventDateTime'] = pd.to_datetime(df['EventDateTime'])\n",
    "    df = df.rename(columns={'EventDateTime': 'Time', 'Readings (CGM / BGM)': 'BG'})\n",
    "    return df\n",
    "\n",
    "def process_body_metrics(df, metric):\n",
    "    df = df.rename(columns={'sourceVersion': 'Time', 'unit': metric})[['Time', metric]].reset_index(drop=True)\n",
    "    df['Time'] = pd.to_datetime(df['Time'])   \n",
    "    return df\n",
    "\n",
    "def process_workout(df):\n",
    "    df = df[['startDate', 'endDate', 'workoutActivityType']]\n",
    "    df['workoutActivityType'] = df['workoutActivityType'].str[len('HKWorkoutActivityType'):]\n",
    "    df['workoutActivityType'] = df['workoutActivityType'].map(lambda x: ' '.join(re.split('(?<=.)(?=[A-Z])', x)))\n",
    "    df = df.rename(columns={'startDate': 'StartTime', 'endDate': 'EndTime', 'workoutActivityType': 'WorkoutName'})\n",
    "    return df\n"
   ]
  },
  {
   "cell_type": "code",
   "execution_count": 86,
   "metadata": {},
   "outputs": [
    {
     "name": "stderr",
     "output_type": "stream",
     "text": [
      "<ipython-input-85-182b2b45a197>:25: SettingWithCopyWarning: \n",
      "A value is trying to be set on a copy of a slice from a DataFrame.\n",
      "Try using .loc[row_indexer,col_indexer] = value instead\n",
      "\n",
      "See the caveats in the documentation: https://pandas.pydata.org/pandas-docs/stable/user_guide/indexing.html#returning-a-view-versus-a-copy\n",
      "  df['workoutActivityType'] = df['workoutActivityType'].str[len('HKWorkoutActivityType'):]\n",
      "<ipython-input-85-182b2b45a197>:26: SettingWithCopyWarning: \n",
      "A value is trying to be set on a copy of a slice from a DataFrame.\n",
      "Try using .loc[row_indexer,col_indexer] = value instead\n",
      "\n",
      "See the caveats in the documentation: https://pandas.pydata.org/pandas-docs/stable/user_guide/indexing.html#returning-a-view-versus-a-copy\n",
      "  df['workoutActivityType'] = df['workoutActivityType'].map(lambda x: ' '.join(re.split('(?<=.)(?=[A-Z])', x)))\n"
     ]
    }
   ],
   "source": [
    "bg_1 = process_bg(bg_1)\n",
    "bg_2 = process_bg(bg_2)\n",
    "\n",
    "tslim_1 = process_tslim(tslim_1)\n",
    "tslim_2 = process_tslim(tslim_2)\n",
    "\n",
    "hr = process_body_metrics(hr, 'HR')\n",
    "basal_energy = process_body_metrics(basal_energy, 'BE')\n",
    "active_energy = process_body_metrics(active_energy, 'AE')\n",
    "\n",
    "workout = process_workout(workout)"
   ]
  },
  {
   "cell_type": "markdown",
   "metadata": {},
   "source": [
    "# Process and Merge"
   ]
  },
  {
   "cell_type": "markdown",
   "metadata": {},
   "source": [
    "Let's start with BG data and determine an evenly spaced time interval."
   ]
  },
  {
   "cell_type": "code",
   "execution_count": 100,
   "metadata": {},
   "outputs": [],
   "source": [
    "bg = pd.concat([bg_1, bg_2]).sort_values('Time')\n",
    "tslim = pd.concat([tslim_1, tslim_2]).sort_values('Time')"
   ]
  },
  {
   "cell_type": "code",
   "execution_count": 88,
   "metadata": {},
   "outputs": [
    {
     "data": {
      "text/plain": [
       "count                        36696\n",
       "mean     0 days 00:07:07.831126008\n",
       "std      0 days 06:17:24.584862979\n",
       "min                0 days 00:00:00\n",
       "25%                0 days 00:05:00\n",
       "50%                0 days 00:05:00\n",
       "75%                0 days 00:05:00\n",
       "max               50 days 04:43:54\n",
       "Name: Time, dtype: object"
      ]
     },
     "execution_count": 88,
     "metadata": {},
     "output_type": "execute_result"
    }
   ],
   "source": [
    "bg['Time'].diff().describe()"
   ]
  },
  {
   "cell_type": "markdown",
   "metadata": {},
   "source": [
    "Seems like measurements are collected every 5 min on average."
   ]
  },
  {
   "cell_type": "code",
   "execution_count": 115,
   "metadata": {},
   "outputs": [
    {
     "data": {
      "text/html": [
       "<div>\n",
       "<style scoped>\n",
       "    .dataframe tbody tr th:only-of-type {\n",
       "        vertical-align: middle;\n",
       "    }\n",
       "\n",
       "    .dataframe tbody tr th {\n",
       "        vertical-align: top;\n",
       "    }\n",
       "\n",
       "    .dataframe thead th {\n",
       "        text-align: right;\n",
       "    }\n",
       "</style>\n",
       "<table border=\"1\" class=\"dataframe\">\n",
       "  <thead>\n",
       "    <tr style=\"text-align: right;\">\n",
       "      <th></th>\n",
       "      <th>Time</th>\n",
       "      <th>BG</th>\n",
       "    </tr>\n",
       "  </thead>\n",
       "  <tbody>\n",
       "    <tr>\n",
       "      <th>0</th>\n",
       "      <td>2023-02-18 06:55:00</td>\n",
       "      <td>250.0</td>\n",
       "    </tr>\n",
       "    <tr>\n",
       "      <th>1</th>\n",
       "      <td>2023-02-18 07:00:00</td>\n",
       "      <td>242.0</td>\n",
       "    </tr>\n",
       "    <tr>\n",
       "      <th>2</th>\n",
       "      <td>2023-02-18 07:05:00</td>\n",
       "      <td>239.0</td>\n",
       "    </tr>\n",
       "    <tr>\n",
       "      <th>3</th>\n",
       "      <td>2023-02-18 07:10:00</td>\n",
       "      <td>237.0</td>\n",
       "    </tr>\n",
       "    <tr>\n",
       "      <th>4</th>\n",
       "      <td>2023-02-18 07:15:00</td>\n",
       "      <td>237.0</td>\n",
       "    </tr>\n",
       "  </tbody>\n",
       "</table>\n",
       "</div>"
      ],
      "text/plain": [
       "                 Time     BG\n",
       "0 2023-02-18 06:55:00  250.0\n",
       "1 2023-02-18 07:00:00  242.0\n",
       "2 2023-02-18 07:05:00  239.0\n",
       "3 2023-02-18 07:10:00  237.0\n",
       "4 2023-02-18 07:15:00  237.0"
      ]
     },
     "execution_count": 115,
     "metadata": {},
     "output_type": "execute_result"
    }
   ],
   "source": [
    "bg['Time'] = bg['Time'].dt.round('5min')\n",
    "bg = bg.groupby('Time')['BG'].mean().to_frame().reset_index()\n",
    "\n",
    "bg_daterange = pd.date_range(start='2023-02-18 06:55:00', end='2023-08-18 23:55:00', freq='5T')\n",
    "bg_processed = bg_daterange.to_frame().rename(columns={0: 'Time'})\n",
    "bg_processed = bg_processed.reset_index(drop=True)\n",
    "bg = pd.concat([bg, bg_processed]).sort_values('Time')\n",
    "bg = bg.groupby('Time').mean().reset_index()\n",
    "bg.head()"
   ]
  },
  {
   "cell_type": "markdown",
   "metadata": {},
   "source": [
    "Now, let's process tslim data in similar way."
   ]
  },
  {
   "cell_type": "code",
   "execution_count": 133,
   "metadata": {},
   "outputs": [
    {
     "data": {
      "text/html": [
       "<div>\n",
       "<style scoped>\n",
       "    .dataframe tbody tr th:only-of-type {\n",
       "        vertical-align: middle;\n",
       "    }\n",
       "\n",
       "    .dataframe tbody tr th {\n",
       "        vertical-align: top;\n",
       "    }\n",
       "\n",
       "    .dataframe thead th {\n",
       "        text-align: right;\n",
       "    }\n",
       "</style>\n",
       "<table border=\"1\" class=\"dataframe\">\n",
       "  <thead>\n",
       "    <tr style=\"text-align: right;\">\n",
       "      <th></th>\n",
       "      <th>Time</th>\n",
       "      <th>BG</th>\n",
       "      <th>InsulinDelivered</th>\n",
       "    </tr>\n",
       "  </thead>\n",
       "  <tbody>\n",
       "    <tr>\n",
       "      <th>0</th>\n",
       "      <td>2023-02-18 07:40:00</td>\n",
       "      <td>216.0</td>\n",
       "      <td>0.59</td>\n",
       "    </tr>\n",
       "    <tr>\n",
       "      <th>1</th>\n",
       "      <td>2023-02-18 07:45:00</td>\n",
       "      <td>NaN</td>\n",
       "      <td>0.00</td>\n",
       "    </tr>\n",
       "    <tr>\n",
       "      <th>2</th>\n",
       "      <td>2023-02-18 07:50:00</td>\n",
       "      <td>NaN</td>\n",
       "      <td>0.00</td>\n",
       "    </tr>\n",
       "    <tr>\n",
       "      <th>3</th>\n",
       "      <td>2023-02-18 07:55:00</td>\n",
       "      <td>NaN</td>\n",
       "      <td>0.00</td>\n",
       "    </tr>\n",
       "    <tr>\n",
       "      <th>4</th>\n",
       "      <td>2023-02-18 08:00:00</td>\n",
       "      <td>NaN</td>\n",
       "      <td>0.00</td>\n",
       "    </tr>\n",
       "  </tbody>\n",
       "</table>\n",
       "</div>"
      ],
      "text/plain": [
       "                 Time     BG  InsulinDelivered\n",
       "0 2023-02-18 07:40:00  216.0              0.59\n",
       "1 2023-02-18 07:45:00    NaN              0.00\n",
       "2 2023-02-18 07:50:00    NaN              0.00\n",
       "3 2023-02-18 07:55:00    NaN              0.00\n",
       "4 2023-02-18 08:00:00    NaN              0.00"
      ]
     },
     "execution_count": 133,
     "metadata": {},
     "output_type": "execute_result"
    }
   ],
   "source": [
    "tslim['Time'] = tslim['Time'].dt.round(\"5min\")\n",
    "tslim = tslim.groupby('Time').agg({'BG': 'mean', 'InsulinDelivered': 'sum'}).reset_index()\n",
    "\n",
    "tslim_daterange = pd.date_range(start='2023-02-18 07:40:00', end='2023-08-18 22:25:00', freq='5T')\n",
    "tslim_processed = tslim_daterange.to_frame().rename(columns={0: 'Time'})\n",
    "tslim_processed = tslim_processed.reset_index(drop=True)\n",
    "tslim = pd.concat([tslim, tslim_processed]).sort_values('Time')\n",
    "tslim = tslim.groupby('Time').mean().reset_index()\n",
    "tslim['InsulinDelivered'] = tslim['InsulinDelivered'].fillna(0)\n",
    "tslim.head()"
   ]
  },
  {
   "cell_type": "code",
   "execution_count": 152,
   "metadata": {},
   "outputs": [
    {
     "data": {
      "text/html": [
       "<div>\n",
       "<style scoped>\n",
       "    .dataframe tbody tr th:only-of-type {\n",
       "        vertical-align: middle;\n",
       "    }\n",
       "\n",
       "    .dataframe tbody tr th {\n",
       "        vertical-align: top;\n",
       "    }\n",
       "\n",
       "    .dataframe thead th {\n",
       "        text-align: right;\n",
       "    }\n",
       "</style>\n",
       "<table border=\"1\" class=\"dataframe\">\n",
       "  <thead>\n",
       "    <tr style=\"text-align: right;\">\n",
       "      <th></th>\n",
       "      <th>Time</th>\n",
       "      <th>BG</th>\n",
       "      <th>InsulinDelivered</th>\n",
       "    </tr>\n",
       "  </thead>\n",
       "  <tbody>\n",
       "    <tr>\n",
       "      <th>0</th>\n",
       "      <td>2023-02-18 01:55:00-05:00</td>\n",
       "      <td>250.0</td>\n",
       "      <td>NaN</td>\n",
       "    </tr>\n",
       "    <tr>\n",
       "      <th>1</th>\n",
       "      <td>2023-02-18 02:00:00-05:00</td>\n",
       "      <td>242.0</td>\n",
       "      <td>NaN</td>\n",
       "    </tr>\n",
       "    <tr>\n",
       "      <th>2</th>\n",
       "      <td>2023-02-18 02:05:00-05:00</td>\n",
       "      <td>239.0</td>\n",
       "      <td>NaN</td>\n",
       "    </tr>\n",
       "    <tr>\n",
       "      <th>3</th>\n",
       "      <td>2023-02-18 02:10:00-05:00</td>\n",
       "      <td>237.0</td>\n",
       "      <td>NaN</td>\n",
       "    </tr>\n",
       "    <tr>\n",
       "      <th>4</th>\n",
       "      <td>2023-02-18 02:15:00-05:00</td>\n",
       "      <td>237.0</td>\n",
       "      <td>NaN</td>\n",
       "    </tr>\n",
       "  </tbody>\n",
       "</table>\n",
       "</div>"
      ],
      "text/plain": [
       "                       Time     BG  InsulinDelivered\n",
       "0 2023-02-18 01:55:00-05:00  250.0               NaN\n",
       "1 2023-02-18 02:00:00-05:00  242.0               NaN\n",
       "2 2023-02-18 02:05:00-05:00  239.0               NaN\n",
       "3 2023-02-18 02:10:00-05:00  237.0               NaN\n",
       "4 2023-02-18 02:15:00-05:00  237.0               NaN"
      ]
     },
     "execution_count": 152,
     "metadata": {},
     "output_type": "execute_result"
    }
   ],
   "source": [
    "bg_tslim_merged = bg.merge(tslim, how='outer', left_on='Time', right_on='Time')\n",
    "bg_tslim_merged['BG_x'] = bg_tslim_merged['BG_x'].fillna(bg_tslim_merged['BG_y'])\n",
    "bg_tslim_merged = bg_tslim_merged.rename(columns={'BG_x': 'BG'})\n",
    "bg_tslim_merged = bg_tslim_merged[['Time', 'BG', 'InsulinDelivered']]\n",
    "bg_tslim_merged['Time'] = bg_tslim_merged['Time'].dt.tz_localize('UTC').dt.tz_convert('US/Eastern')\n",
    "bg_tslim_merged.head()"
   ]
  },
  {
   "cell_type": "code",
   "execution_count": 155,
   "metadata": {},
   "outputs": [
    {
     "data": {
      "text/html": [
       "<div>\n",
       "<style scoped>\n",
       "    .dataframe tbody tr th:only-of-type {\n",
       "        vertical-align: middle;\n",
       "    }\n",
       "\n",
       "    .dataframe tbody tr th {\n",
       "        vertical-align: top;\n",
       "    }\n",
       "\n",
       "    .dataframe thead th {\n",
       "        text-align: right;\n",
       "    }\n",
       "</style>\n",
       "<table border=\"1\" class=\"dataframe\">\n",
       "  <thead>\n",
       "    <tr style=\"text-align: right;\">\n",
       "      <th></th>\n",
       "      <th>Time</th>\n",
       "      <th>HR</th>\n",
       "    </tr>\n",
       "  </thead>\n",
       "  <tbody>\n",
       "    <tr>\n",
       "      <th>229314</th>\n",
       "      <td>2023-02-17 23:55:00-07:00</td>\n",
       "      <td>58.0</td>\n",
       "    </tr>\n",
       "    <tr>\n",
       "      <th>229315</th>\n",
       "      <td>2023-02-18 00:00:00-07:00</td>\n",
       "      <td>58.0</td>\n",
       "    </tr>\n",
       "    <tr>\n",
       "      <th>229316</th>\n",
       "      <td>2023-02-18 00:05:00-07:00</td>\n",
       "      <td>58.0</td>\n",
       "    </tr>\n",
       "    <tr>\n",
       "      <th>229317</th>\n",
       "      <td>2023-02-18 00:10:00-07:00</td>\n",
       "      <td>58.0</td>\n",
       "    </tr>\n",
       "    <tr>\n",
       "      <th>229318</th>\n",
       "      <td>2023-02-18 00:15:00-07:00</td>\n",
       "      <td>58.0</td>\n",
       "    </tr>\n",
       "  </tbody>\n",
       "</table>\n",
       "</div>"
      ],
      "text/plain": [
       "                            Time    HR\n",
       "229314 2023-02-17 23:55:00-07:00  58.0\n",
       "229315 2023-02-18 00:00:00-07:00  58.0\n",
       "229316 2023-02-18 00:05:00-07:00  58.0\n",
       "229317 2023-02-18 00:10:00-07:00  58.0\n",
       "229318 2023-02-18 00:15:00-07:00  58.0"
      ]
     },
     "execution_count": 155,
     "metadata": {},
     "output_type": "execute_result"
    }
   ],
   "source": [
    "hr['Time'] = hr['Time'].dt.round(\"5min\")\n",
    "hr = hr.groupby('Time')['HR'].mean().reset_index()\n",
    "\n",
    "hr_daterange = pd.date_range(start='2020-12-13 18:25:00-07:00', end='2023-08-19 18:35:00-07:00', freq='5T')\n",
    "hr_processed = hr_daterange.to_frame().rename(columns={0: 'Time'})\n",
    "hr_processed = hr_processed.reset_index(drop=True)\n",
    "hr = pd.concat([hr, hr_processed]).sort_values('Time')\n",
    "hr = hr.groupby('Time').mean().reset_index()\n",
    "hr = hr.ffill()\n",
    "hr = hr[hr['Time'].isin(bg_tslim_merged['Time'])]\n",
    "hr.head()"
   ]
  },
  {
   "cell_type": "code",
   "execution_count": 158,
   "metadata": {},
   "outputs": [
    {
     "data": {
      "text/html": [
       "<div>\n",
       "<style scoped>\n",
       "    .dataframe tbody tr th:only-of-type {\n",
       "        vertical-align: middle;\n",
       "    }\n",
       "\n",
       "    .dataframe tbody tr th {\n",
       "        vertical-align: top;\n",
       "    }\n",
       "\n",
       "    .dataframe thead th {\n",
       "        text-align: right;\n",
       "    }\n",
       "</style>\n",
       "<table border=\"1\" class=\"dataframe\">\n",
       "  <thead>\n",
       "    <tr style=\"text-align: right;\">\n",
       "      <th></th>\n",
       "      <th>Time</th>\n",
       "      <th>BG</th>\n",
       "      <th>InsulinDelivered</th>\n",
       "      <th>HR</th>\n",
       "    </tr>\n",
       "  </thead>\n",
       "  <tbody>\n",
       "    <tr>\n",
       "      <th>0</th>\n",
       "      <td>2023-02-18 02:40:00-05:00</td>\n",
       "      <td>229.0</td>\n",
       "      <td>0.59</td>\n",
       "      <td>58.0</td>\n",
       "    </tr>\n",
       "    <tr>\n",
       "      <th>1</th>\n",
       "      <td>2023-02-18 02:45:00-05:00</td>\n",
       "      <td>217.0</td>\n",
       "      <td>0.00</td>\n",
       "      <td>58.0</td>\n",
       "    </tr>\n",
       "    <tr>\n",
       "      <th>2</th>\n",
       "      <td>2023-02-18 02:50:00-05:00</td>\n",
       "      <td>228.0</td>\n",
       "      <td>0.00</td>\n",
       "      <td>58.0</td>\n",
       "    </tr>\n",
       "    <tr>\n",
       "      <th>3</th>\n",
       "      <td>2023-02-18 02:55:00-05:00</td>\n",
       "      <td>226.0</td>\n",
       "      <td>0.00</td>\n",
       "      <td>58.0</td>\n",
       "    </tr>\n",
       "    <tr>\n",
       "      <th>4</th>\n",
       "      <td>2023-02-18 03:00:00-05:00</td>\n",
       "      <td>229.0</td>\n",
       "      <td>0.00</td>\n",
       "      <td>58.0</td>\n",
       "    </tr>\n",
       "  </tbody>\n",
       "</table>\n",
       "</div>"
      ],
      "text/plain": [
       "                        Time     BG  InsulinDelivered    HR\n",
       "0  2023-02-18 02:40:00-05:00  229.0              0.59  58.0\n",
       "1  2023-02-18 02:45:00-05:00  217.0              0.00  58.0\n",
       "2  2023-02-18 02:50:00-05:00  228.0              0.00  58.0\n",
       "3  2023-02-18 02:55:00-05:00  226.0              0.00  58.0\n",
       "4  2023-02-18 03:00:00-05:00  229.0              0.00  58.0"
      ]
     },
     "execution_count": 158,
     "metadata": {},
     "output_type": "execute_result"
    }
   ],
   "source": [
    "final_merged = bg_tslim_merged.merge(hr, how='left', left_on='Time', right_on='Time')\n",
    "final_merged = final_merged[~final_merged['InsulinDelivered'].isna()].reset_index(drop=True)\n",
    "final_merged.head()"
   ]
  },
  {
   "cell_type": "code",
   "execution_count": 160,
   "metadata": {},
   "outputs": [],
   "source": [
    "BASE_PATH = '/Users/amanchopra/Documents/School/MS/Fall 2023/RL/Final Project/Data/Processed'\n",
    "final_merged.to_csv(f'{BASE_PATH}/merged.csv')"
   ]
  },
  {
   "cell_type": "markdown",
   "metadata": {},
   "source": [
    "# EDA"
   ]
  },
  {
   "cell_type": "code",
   "execution_count": 168,
   "metadata": {},
   "outputs": [
    {
     "data": {
      "text/html": [
       "<div>\n",
       "<style scoped>\n",
       "    .dataframe tbody tr th:only-of-type {\n",
       "        vertical-align: middle;\n",
       "    }\n",
       "\n",
       "    .dataframe tbody tr th {\n",
       "        vertical-align: top;\n",
       "    }\n",
       "\n",
       "    .dataframe thead th {\n",
       "        text-align: right;\n",
       "    }\n",
       "</style>\n",
       "<table border=\"1\" class=\"dataframe\">\n",
       "  <thead>\n",
       "    <tr style=\"text-align: right;\">\n",
       "      <th></th>\n",
       "      <th>BG</th>\n",
       "      <th>InsulinDelivered</th>\n",
       "      <th>HR</th>\n",
       "    </tr>\n",
       "  </thead>\n",
       "  <tbody>\n",
       "    <tr>\n",
       "      <th>0</th>\n",
       "      <td>229.0</td>\n",
       "      <td>0.59</td>\n",
       "      <td>58.000000</td>\n",
       "    </tr>\n",
       "    <tr>\n",
       "      <th>1</th>\n",
       "      <td>217.0</td>\n",
       "      <td>0.00</td>\n",
       "      <td>58.000000</td>\n",
       "    </tr>\n",
       "    <tr>\n",
       "      <th>2</th>\n",
       "      <td>228.0</td>\n",
       "      <td>0.00</td>\n",
       "      <td>58.000000</td>\n",
       "    </tr>\n",
       "    <tr>\n",
       "      <th>3</th>\n",
       "      <td>226.0</td>\n",
       "      <td>0.00</td>\n",
       "      <td>58.000000</td>\n",
       "    </tr>\n",
       "    <tr>\n",
       "      <th>4</th>\n",
       "      <td>229.0</td>\n",
       "      <td>0.00</td>\n",
       "      <td>58.000000</td>\n",
       "    </tr>\n",
       "    <tr>\n",
       "      <th>...</th>\n",
       "      <td>...</td>\n",
       "      <td>...</td>\n",
       "      <td>...</td>\n",
       "    </tr>\n",
       "    <tr>\n",
       "      <th>52301</th>\n",
       "      <td>205.0</td>\n",
       "      <td>0.00</td>\n",
       "      <td>81.400000</td>\n",
       "    </tr>\n",
       "    <tr>\n",
       "      <th>52302</th>\n",
       "      <td>200.0</td>\n",
       "      <td>0.00</td>\n",
       "      <td>78.786885</td>\n",
       "    </tr>\n",
       "    <tr>\n",
       "      <th>52303</th>\n",
       "      <td>194.0</td>\n",
       "      <td>0.00</td>\n",
       "      <td>69.101695</td>\n",
       "    </tr>\n",
       "    <tr>\n",
       "      <th>52304</th>\n",
       "      <td>187.0</td>\n",
       "      <td>0.00</td>\n",
       "      <td>67.846154</td>\n",
       "    </tr>\n",
       "    <tr>\n",
       "      <th>52305</th>\n",
       "      <td>180.0</td>\n",
       "      <td>5.00</td>\n",
       "      <td>67.825400</td>\n",
       "    </tr>\n",
       "  </tbody>\n",
       "</table>\n",
       "<p>52306 rows × 3 columns</p>\n",
       "</div>"
      ],
      "text/plain": [
       "          BG  InsulinDelivered         HR\n",
       "0      229.0              0.59  58.000000\n",
       "1      217.0              0.00  58.000000\n",
       "2      228.0              0.00  58.000000\n",
       "3      226.0              0.00  58.000000\n",
       "4      229.0              0.00  58.000000\n",
       "...      ...               ...        ...\n",
       "52301  205.0              0.00  81.400000\n",
       "52302  200.0              0.00  78.786885\n",
       "52303  194.0              0.00  69.101695\n",
       "52304  187.0              0.00  67.846154\n",
       "52305  180.0              5.00  67.825400\n",
       "\n",
       "[52306 rows x 3 columns]"
      ]
     },
     "execution_count": 168,
     "metadata": {},
     "output_type": "execute_result"
    }
   ],
   "source": [
    "import pandas as pd\n",
    "\n",
    "BASE_PATH = '/Users/amanchopra/Documents/School/MS/Fall 2023/RL/Final Project/Data/Processed'\n",
    "final_merged = pd.read_csv(f'{BASE_PATH}/merged.csv', index_col=0)[['BG', 'InsulinDelivered', 'HR']]\n",
    "final_merged"
   ]
  },
  {
   "cell_type": "code",
   "execution_count": 173,
   "metadata": {},
   "outputs": [],
   "source": [
    "import seaborn as sns"
   ]
  },
  {
   "cell_type": "code",
   "execution_count": 172,
   "metadata": {},
   "outputs": [
    {
     "data": {
      "text/plain": [
       "<matplotlib.axes._subplots.AxesSubplot at 0x7fe391f39e80>"
      ]
     },
     "execution_count": 172,
     "metadata": {},
     "output_type": "execute_result"
    },
    {
     "data": {
      "image/png": "[encoded data removed]",
      "text/plain": [
       "<Figure size 432x288 with 2 Axes>"
      ]
     },
     "metadata": {
      "needs_background": "light"
     },
     "output_type": "display_data"
    }
   ],
   "source": [
    "sns.heatmap(final_merged.corr())"
   ]
  },
  {
   "cell_type": "code",
   "execution_count": 175,
   "metadata": {},
   "outputs": [
    {
     "name": "stderr",
     "output_type": "stream",
     "text": [
      "/opt/anaconda3/lib/python3.8/site-packages/seaborn/_decorators.py:36: FutureWarning: Pass the following variable as a keyword arg: x. From version 0.12, the only valid positional argument will be `data`, and passing other arguments without an explicit keyword will result in an error or misinterpretation.\n",
      "  warnings.warn(\n"
     ]
    },
    {
     "data": {
      "text/plain": [
       "<matplotlib.axes._subplots.AxesSubplot at 0x7fe416e6e250>"
      ]
     },
     "execution_count": 175,
     "metadata": {},
     "output_type": "execute_result"
    },
    {
     "data": {
      "image/png": "[encoded data removed]",
      "text/plain": [
       "<Figure size 432x288 with 1 Axes>"
      ]
     },
     "metadata": {
      "needs_background": "light"
     },
     "output_type": "display_data"
    }
   ],
   "source": [
    "sns.violinplot(final_merged['HR'])"
   ]
  },
  {
   "cell_type": "code",
   "execution_count": 176,
   "metadata": {},
   "outputs": [
    {
     "name": "stderr",
     "output_type": "stream",
     "text": [
      "/opt/anaconda3/lib/python3.8/site-packages/seaborn/_decorators.py:36: FutureWarning: Pass the following variable as a keyword arg: x. From version 0.12, the only valid positional argument will be `data`, and passing other arguments without an explicit keyword will result in an error or misinterpretation.\n",
      "  warnings.warn(\n"
     ]
    },
    {
     "data": {
      "text/plain": [
       "<matplotlib.axes._subplots.AxesSubplot at 0x7fe41cd9d640>"
      ]
     },
     "execution_count": 176,
     "metadata": {},
     "output_type": "execute_result"
    },
    {
     "data": {
      "image/png": "[encoded data removed]",
      "text/plain": [
       "<Figure size 432x288 with 1 Axes>"
      ]
     },
     "metadata": {
      "needs_background": "light"
     },
     "output_type": "display_data"
    }
   ],
   "source": [
    "sns.violinplot(final_merged['BG'])"
   ]
  },
  {
   "cell_type": "code",
   "execution_count": 177,
   "metadata": {},
   "outputs": [
    {
     "name": "stderr",
     "output_type": "stream",
     "text": [
      "/opt/anaconda3/lib/python3.8/site-packages/seaborn/_decorators.py:36: FutureWarning: Pass the following variable as a keyword arg: x. From version 0.12, the only valid positional argument will be `data`, and passing other arguments without an explicit keyword will result in an error or misinterpretation.\n",
      "  warnings.warn(\n"
     ]
    },
    {
     "data": {
      "text/plain": [
       "<matplotlib.axes._subplots.AxesSubplot at 0x7fe4212d0e80>"
      ]
     },
     "execution_count": 177,
     "metadata": {},
     "output_type": "execute_result"
    },
    {
     "data": {
      "image/png": "[encoded data removed]",
      "text/plain": [
       "<Figure size 432x288 with 1 Axes>"
      ]
     },
     "metadata": {
      "needs_background": "light"
     },
     "output_type": "display_data"
    }
   ],
   "source": [
    "sns.violinplot(final_merged['InsulinDelivered'])"
   ]
  },
  {
   "cell_type": "markdown",
   "metadata": {},
   "source": [
    "Let's make a transition model out of this data."
   ]
  },
  {
   "cell_type": "code",
   "execution_count": 182,
   "metadata": {},
   "outputs": [
    {
     "data": {
      "text/html": [
       "<div>\n",
       "<style scoped>\n",
       "    .dataframe tbody tr th:only-of-type {\n",
       "        vertical-align: middle;\n",
       "    }\n",
       "\n",
       "    .dataframe tbody tr th {\n",
       "        vertical-align: top;\n",
       "    }\n",
       "\n",
       "    .dataframe thead th {\n",
       "        text-align: right;\n",
       "    }\n",
       "</style>\n",
       "<table border=\"1\" class=\"dataframe\">\n",
       "  <thead>\n",
       "    <tr style=\"text-align: right;\">\n",
       "      <th></th>\n",
       "      <th>BG_t0</th>\n",
       "      <th>BG_t1</th>\n",
       "      <th>HR_t0</th>\n",
       "      <th>HR_t1</th>\n",
       "      <th>InsulinDelivered_t1</th>\n",
       "      <th>BG_t2</th>\n",
       "      <th>BG_t3</th>\n",
       "      <th>HR_t2</th>\n",
       "      <th>HR_t3</th>\n",
       "    </tr>\n",
       "  </thead>\n",
       "  <tbody>\n",
       "    <tr>\n",
       "      <th>0</th>\n",
       "      <td>229.0</td>\n",
       "      <td>NaN</td>\n",
       "      <td>58.000000</td>\n",
       "      <td>NaN</td>\n",
       "      <td>NaN</td>\n",
       "      <td>NaN</td>\n",
       "      <td>NaN</td>\n",
       "      <td>NaN</td>\n",
       "      <td>NaN</td>\n",
       "    </tr>\n",
       "    <tr>\n",
       "      <th>1</th>\n",
       "      <td>217.0</td>\n",
       "      <td>229.0</td>\n",
       "      <td>58.000000</td>\n",
       "      <td>58.000000</td>\n",
       "      <td>0.59</td>\n",
       "      <td>NaN</td>\n",
       "      <td>NaN</td>\n",
       "      <td>NaN</td>\n",
       "      <td>NaN</td>\n",
       "    </tr>\n",
       "    <tr>\n",
       "      <th>2</th>\n",
       "      <td>228.0</td>\n",
       "      <td>217.0</td>\n",
       "      <td>58.000000</td>\n",
       "      <td>58.000000</td>\n",
       "      <td>0.00</td>\n",
       "      <td>229.0</td>\n",
       "      <td>NaN</td>\n",
       "      <td>58.000000</td>\n",
       "      <td>NaN</td>\n",
       "    </tr>\n",
       "    <tr>\n",
       "      <th>3</th>\n",
       "      <td>226.0</td>\n",
       "      <td>228.0</td>\n",
       "      <td>58.000000</td>\n",
       "      <td>58.000000</td>\n",
       "      <td>0.00</td>\n",
       "      <td>217.0</td>\n",
       "      <td>229.0</td>\n",
       "      <td>58.000000</td>\n",
       "      <td>58.000000</td>\n",
       "    </tr>\n",
       "    <tr>\n",
       "      <th>4</th>\n",
       "      <td>229.0</td>\n",
       "      <td>226.0</td>\n",
       "      <td>58.000000</td>\n",
       "      <td>58.000000</td>\n",
       "      <td>0.00</td>\n",
       "      <td>228.0</td>\n",
       "      <td>217.0</td>\n",
       "      <td>58.000000</td>\n",
       "      <td>58.000000</td>\n",
       "    </tr>\n",
       "    <tr>\n",
       "      <th>...</th>\n",
       "      <td>...</td>\n",
       "      <td>...</td>\n",
       "      <td>...</td>\n",
       "      <td>...</td>\n",
       "      <td>...</td>\n",
       "      <td>...</td>\n",
       "      <td>...</td>\n",
       "      <td>...</td>\n",
       "      <td>...</td>\n",
       "    </tr>\n",
       "    <tr>\n",
       "      <th>52301</th>\n",
       "      <td>205.0</td>\n",
       "      <td>212.0</td>\n",
       "      <td>81.400000</td>\n",
       "      <td>77.533333</td>\n",
       "      <td>0.00</td>\n",
       "      <td>217.0</td>\n",
       "      <td>224.0</td>\n",
       "      <td>74.250000</td>\n",
       "      <td>78.351852</td>\n",
       "    </tr>\n",
       "    <tr>\n",
       "      <th>52302</th>\n",
       "      <td>200.0</td>\n",
       "      <td>205.0</td>\n",
       "      <td>78.786885</td>\n",
       "      <td>81.400000</td>\n",
       "      <td>0.00</td>\n",
       "      <td>212.0</td>\n",
       "      <td>217.0</td>\n",
       "      <td>77.533333</td>\n",
       "      <td>74.250000</td>\n",
       "    </tr>\n",
       "    <tr>\n",
       "      <th>52303</th>\n",
       "      <td>194.0</td>\n",
       "      <td>200.0</td>\n",
       "      <td>69.101695</td>\n",
       "      <td>78.786885</td>\n",
       "      <td>0.00</td>\n",
       "      <td>205.0</td>\n",
       "      <td>212.0</td>\n",
       "      <td>81.400000</td>\n",
       "      <td>77.533333</td>\n",
       "    </tr>\n",
       "    <tr>\n",
       "      <th>52304</th>\n",
       "      <td>187.0</td>\n",
       "      <td>194.0</td>\n",
       "      <td>67.846154</td>\n",
       "      <td>69.101695</td>\n",
       "      <td>0.00</td>\n",
       "      <td>200.0</td>\n",
       "      <td>205.0</td>\n",
       "      <td>78.786885</td>\n",
       "      <td>81.400000</td>\n",
       "    </tr>\n",
       "    <tr>\n",
       "      <th>52305</th>\n",
       "      <td>180.0</td>\n",
       "      <td>187.0</td>\n",
       "      <td>67.825400</td>\n",
       "      <td>67.846154</td>\n",
       "      <td>0.00</td>\n",
       "      <td>194.0</td>\n",
       "      <td>200.0</td>\n",
       "      <td>69.101695</td>\n",
       "      <td>78.786885</td>\n",
       "    </tr>\n",
       "  </tbody>\n",
       "</table>\n",
       "<p>52306 rows × 9 columns</p>\n",
       "</div>"
      ],
      "text/plain": [
       "       BG_t0  BG_t1      HR_t0      HR_t1  InsulinDelivered_t1  BG_t2  BG_t3  \\\n",
       "0      229.0    NaN  58.000000        NaN                  NaN    NaN    NaN   \n",
       "1      217.0  229.0  58.000000  58.000000                 0.59    NaN    NaN   \n",
       "2      228.0  217.0  58.000000  58.000000                 0.00  229.0    NaN   \n",
       "3      226.0  228.0  58.000000  58.000000                 0.00  217.0  229.0   \n",
       "4      229.0  226.0  58.000000  58.000000                 0.00  228.0  217.0   \n",
       "...      ...    ...        ...        ...                  ...    ...    ...   \n",
       "52301  205.0  212.0  81.400000  77.533333                 0.00  217.0  224.0   \n",
       "52302  200.0  205.0  78.786885  81.400000                 0.00  212.0  217.0   \n",
       "52303  194.0  200.0  69.101695  78.786885                 0.00  205.0  212.0   \n",
       "52304  187.0  194.0  67.846154  69.101695                 0.00  200.0  205.0   \n",
       "52305  180.0  187.0  67.825400  67.846154                 0.00  194.0  200.0   \n",
       "\n",
       "           HR_t2      HR_t3  \n",
       "0            NaN        NaN  \n",
       "1            NaN        NaN  \n",
       "2      58.000000        NaN  \n",
       "3      58.000000  58.000000  \n",
       "4      58.000000  58.000000  \n",
       "...          ...        ...  \n",
       "52301  74.250000  78.351852  \n",
       "52302  77.533333  74.250000  \n",
       "52303  81.400000  77.533333  \n",
       "52304  78.786885  81.400000  \n",
       "52305  69.101695  78.786885  \n",
       "\n",
       "[52306 rows x 9 columns]"
      ]
     },
     "execution_count": 182,
     "metadata": {},
     "output_type": "execute_result"
    }
   ],
   "source": [
    "final_merged['BG_t1'] = final_merged['BG'].shift()\n",
    "final_merged['BG_t2'] = final_merged['BG'].shift(2)\n",
    "final_merged['BG_t3'] = final_merged['BG'].shift(3)\n",
    "\n",
    "final_merged['HR_t1'] = final_merged['HR'].shift()\n",
    "final_merged['HR_t2'] = final_merged['HR'].shift(2)\n",
    "final_merged['HR_t3'] = final_merged['HR'].shift(3)\n",
    "\n",
    "final_merged['InsulinDelivered_t1'] = final_merged['InsulinDelivered'].shift()\n",
    "final_merged = final_merged.rename(columns={'BG': 'BG_t0', 'HR': 'HR_t0'})\n",
    "final_merged = final_merged[['BG_t0', 'BG_t1', 'HR_t0', 'HR_t1', 'InsulinDelivered_t1', 'BG_t2', 'BG_t3', 'HR_t2', 'HR_t3']]\n",
    "final_merged"
   ]
  },
  {
   "cell_type": "code",
   "execution_count": 184,
   "metadata": {},
   "outputs": [
    {
     "name": "stdout",
     "output_type": "stream",
     "text": [
      "<class 'pandas.core.frame.DataFrame'>\n",
      "RangeIndex: 35792 entries, 0 to 35791\n",
      "Data columns (total 9 columns):\n",
      " #   Column               Non-Null Count  Dtype  \n",
      "---  ------               --------------  -----  \n",
      " 0   BG_t0                35792 non-null  float64\n",
      " 1   BG_t1                35792 non-null  float64\n",
      " 2   HR_t0                35792 non-null  float64\n",
      " 3   HR_t1                35792 non-null  float64\n",
      " 4   InsulinDelivered_t1  35792 non-null  float64\n",
      " 5   BG_t2                35792 non-null  float64\n",
      " 6   BG_t3                35792 non-null  float64\n",
      " 7   HR_t2                35792 non-null  float64\n",
      " 8   HR_t3                35792 non-null  float64\n",
      "dtypes: float64(9)\n",
      "memory usage: 2.5 MB\n"
     ]
    }
   ],
   "source": [
    "final_merged = final_merged.dropna().reset_index(drop=True)\n",
    "final_merged.info()"
   ]
  },
  {
   "cell_type": "code",
   "execution_count": 185,
   "metadata": {},
   "outputs": [],
   "source": [
    "BASE_PATH = '/Users/amanchopra/Documents/School/MS/Fall 2023/RL/Final Project/Data/Processed'\n",
    "final_merged.to_csv(f'{BASE_PATH}/transition_model.csv')"
   ]
  }
 ],
 "metadata": {
  "kernelspec": {
   "display_name": "base",
   "language": "python",
   "name": "python3"
  },
  "language_info": {
   "codemirror_mode": {
    "name": "ipython",
    "version": 3
   },
   "file_extension": ".py",
   "mimetype": "text/x-python",
   "name": "python",
   "nbconvert_exporter": "python",
   "pygments_lexer": "ipython3",
   "version": "3.8.3"
  },
  "orig_nbformat": 4
 },
 "nbformat": 4,
 "nbformat_minor": 2
}
