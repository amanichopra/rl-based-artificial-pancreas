{
  "nbformat": 4,
  "nbformat_minor": 0,
  "metadata": {
    "colab": {
      "provenance": [],
      "gpuType": "T4"
    },
    "kernelspec": {
      "name": "python3",
      "display_name": "Python 3"
    },
    "language_info": {
      "name": "python"
    },
    "accelerator": "GPU",
    "widgets": {
      "application/vnd.jupyter.widget-state+json": {
        "b6edf9ca6ff34e4fbf1ee5b1c1031829": {
          "model_module": "@jupyter-widgets/controls",
          "model_name": "VBoxModel",
          "model_module_version": "1.5.0",
          "state": {
            "_dom_classes": [],
            "_model_module": "@jupyter-widgets/controls",
            "_model_module_version": "1.5.0",
            "_model_name": "VBoxModel",
            "_view_count": null,
            "_view_module": "@jupyter-widgets/controls",
            "_view_module_version": "1.5.0",
            "_view_name": "VBoxView",
            "box_style": "",
            "children": [
              "IPY_MODEL_6674f676924949888c409df594498222",
              "IPY_MODEL_bfe410ea182842008680b3bee7b7e5d9"
            ],
            "layout": "IPY_MODEL_7ed95078753e44708b0ba7ec9f5569f7"
          }
        },
        "6674f676924949888c409df594498222": {
          "model_module": "@jupyter-widgets/controls",
          "model_name": "LabelModel",
          "model_module_version": "1.5.0",
          "state": {
            "_dom_classes": [],
            "_model_module": "@jupyter-widgets/controls",
            "_model_module_version": "1.5.0",
            "_model_name": "LabelModel",
            "_view_count": null,
            "_view_module": "@jupyter-widgets/controls",
            "_view_module_version": "1.5.0",
            "_view_name": "LabelView",
            "description": "",
            "description_tooltip": null,
            "layout": "IPY_MODEL_5c48858f8dfc40d8a3c39316d914f092",
            "placeholder": "​",
            "style": "IPY_MODEL_bad1191ee3a643cbbb7c73823db388c0",
            "value": "0.011 MB of 0.011 MB uploaded\r"
          }
        },
        "bfe410ea182842008680b3bee7b7e5d9": {
          "model_module": "@jupyter-widgets/controls",
          "model_name": "FloatProgressModel",
          "model_module_version": "1.5.0",
          "state": {
            "_dom_classes": [],
            "_model_module": "@jupyter-widgets/controls",
            "_model_module_version": "1.5.0",
            "_model_name": "FloatProgressModel",
            "_view_count": null,
            "_view_module": "@jupyter-widgets/controls",
            "_view_module_version": "1.5.0",
            "_view_name": "ProgressView",
            "bar_style": "",
            "description": "",
            "description_tooltip": null,
            "layout": "IPY_MODEL_5a9f7aa8bcb04075bf9fe51acf9820fc",
            "max": 1,
            "min": 0,
            "orientation": "horizontal",
            "style": "IPY_MODEL_f329dd3b2e564b209b8dd2762cd0088c",
            "value": 1
          }
        },
        "7ed95078753e44708b0ba7ec9f5569f7": {
          "model_module": "@jupyter-widgets/base",
          "model_name": "LayoutModel",
          "model_module_version": "1.2.0",
          "state": {
            "_model_module": "@jupyter-widgets/base",
            "_model_module_version": "1.2.0",
            "_model_name": "LayoutModel",
            "_view_count": null,
            "_view_module": "@jupyter-widgets/base",
            "_view_module_version": "1.2.0",
            "_view_name": "LayoutView",
            "align_content": null,
            "align_items": null,
            "align_self": null,
            "border": null,
            "bottom": null,
            "display": null,
            "flex": null,
            "flex_flow": null,
            "grid_area": null,
            "grid_auto_columns": null,
            "grid_auto_flow": null,
            "grid_auto_rows": null,
            "grid_column": null,
            "grid_gap": null,
            "grid_row": null,
            "grid_template_areas": null,
            "grid_template_columns": null,
            "grid_template_rows": null,
            "height": null,
            "justify_content": null,
            "justify_items": null,
            "left": null,
            "margin": null,
            "max_height": null,
            "max_width": null,
            "min_height": null,
            "min_width": null,
            "object_fit": null,
            "object_position": null,
            "order": null,
            "overflow": null,
            "overflow_x": null,
            "overflow_y": null,
            "padding": null,
            "right": null,
            "top": null,
            "visibility": null,
            "width": null
          }
        },
        "5c48858f8dfc40d8a3c39316d914f092": {
          "model_module": "@jupyter-widgets/base",
          "model_name": "LayoutModel",
          "model_module_version": "1.2.0",
          "state": {
            "_model_module": "@jupyter-widgets/base",
            "_model_module_version": "1.2.0",
            "_model_name": "LayoutModel",
            "_view_count": null,
            "_view_module": "@jupyter-widgets/base",
            "_view_module_version": "1.2.0",
            "_view_name": "LayoutView",
            "align_content": null,
            "align_items": null,
            "align_self": null,
            "border": null,
            "bottom": null,
            "display": null,
            "flex": null,
            "flex_flow": null,
            "grid_area": null,
            "grid_auto_columns": null,
            "grid_auto_flow": null,
            "grid_auto_rows": null,
            "grid_column": null,
            "grid_gap": null,
            "grid_row": null,
            "grid_template_areas": null,
            "grid_template_columns": null,
            "grid_template_rows": null,
            "height": null,
            "justify_content": null,
            "justify_items": null,
            "left": null,
            "margin": null,
            "max_height": null,
            "max_width": null,
            "min_height": null,
            "min_width": null,
            "object_fit": null,
            "object_position": null,
            "order": null,
            "overflow": null,
            "overflow_x": null,
            "overflow_y": null,
            "padding": null,
            "right": null,
            "top": null,
            "visibility": null,
            "width": null
          }
        },
        "bad1191ee3a643cbbb7c73823db388c0": {
          "model_module": "@jupyter-widgets/controls",
          "model_name": "DescriptionStyleModel",
          "model_module_version": "1.5.0",
          "state": {
            "_model_module": "@jupyter-widgets/controls",
            "_model_module_version": "1.5.0",
            "_model_name": "DescriptionStyleModel",
            "_view_count": null,
            "_view_module": "@jupyter-widgets/base",
            "_view_module_version": "1.2.0",
            "_view_name": "StyleView",
            "description_width": ""
          }
        },
        "5a9f7aa8bcb04075bf9fe51acf9820fc": {
          "model_module": "@jupyter-widgets/base",
          "model_name": "LayoutModel",
          "model_module_version": "1.2.0",
          "state": {
            "_model_module": "@jupyter-widgets/base",
            "_model_module_version": "1.2.0",
            "_model_name": "LayoutModel",
            "_view_count": null,
            "_view_module": "@jupyter-widgets/base",
            "_view_module_version": "1.2.0",
            "_view_name": "LayoutView",
            "align_content": null,
            "align_items": null,
            "align_self": null,
            "border": null,
            "bottom": null,
            "display": null,
            "flex": null,
            "flex_flow": null,
            "grid_area": null,
            "grid_auto_columns": null,
            "grid_auto_flow": null,
            "grid_auto_rows": null,
            "grid_column": null,
            "grid_gap": null,
            "grid_row": null,
            "grid_template_areas": null,
            "grid_template_columns": null,
            "grid_template_rows": null,
            "height": null,
            "justify_content": null,
            "justify_items": null,
            "left": null,
            "margin": null,
            "max_height": null,
            "max_width": null,
            "min_height": null,
            "min_width": null,
            "object_fit": null,
            "object_position": null,
            "order": null,
            "overflow": null,
            "overflow_x": null,
            "overflow_y": null,
            "padding": null,
            "right": null,
            "top": null,
            "visibility": null,
            "width": null
          }
        },
        "f329dd3b2e564b209b8dd2762cd0088c": {
          "model_module": "@jupyter-widgets/controls",
          "model_name": "ProgressStyleModel",
          "model_module_version": "1.5.0",
          "state": {
            "_model_module": "@jupyter-widgets/controls",
            "_model_module_version": "1.5.0",
            "_model_name": "ProgressStyleModel",
            "_view_count": null,
            "_view_module": "@jupyter-widgets/base",
            "_view_module_version": "1.2.0",
            "_view_name": "StyleView",
            "bar_color": null,
            "description_width": ""
          }
        },
        "134c0046414e4a089864a2106d745374": {
          "model_module": "@jupyter-widgets/controls",
          "model_name": "VBoxModel",
          "model_module_version": "1.5.0",
          "state": {
            "_dom_classes": [],
            "_model_module": "@jupyter-widgets/controls",
            "_model_module_version": "1.5.0",
            "_model_name": "VBoxModel",
            "_view_count": null,
            "_view_module": "@jupyter-widgets/controls",
            "_view_module_version": "1.5.0",
            "_view_name": "VBoxView",
            "box_style": "",
            "children": [
              "IPY_MODEL_ae061a8eb7274a4988e70e734bfd2649",
              "IPY_MODEL_35dcb0d2f5c245b3824e7e2382e59b9d"
            ],
            "layout": "IPY_MODEL_7fe3f5f2865b4a03a8d4ee17fa679ebd"
          }
        },
        "ae061a8eb7274a4988e70e734bfd2649": {
          "model_module": "@jupyter-widgets/controls",
          "model_name": "LabelModel",
          "model_module_version": "1.5.0",
          "state": {
            "_dom_classes": [],
            "_model_module": "@jupyter-widgets/controls",
            "_model_module_version": "1.5.0",
            "_model_name": "LabelModel",
            "_view_count": null,
            "_view_module": "@jupyter-widgets/controls",
            "_view_module_version": "1.5.0",
            "_view_name": "LabelView",
            "description": "",
            "description_tooltip": null,
            "layout": "IPY_MODEL_0440ba086c2a4f859da91dadff7c67ca",
            "placeholder": "​",
            "style": "IPY_MODEL_0c03b4d5672448e7bbe8fbfe70896c3e",
            "value": "0.011 MB of 0.011 MB uploaded\r"
          }
        },
        "35dcb0d2f5c245b3824e7e2382e59b9d": {
          "model_module": "@jupyter-widgets/controls",
          "model_name": "FloatProgressModel",
          "model_module_version": "1.5.0",
          "state": {
            "_dom_classes": [],
            "_model_module": "@jupyter-widgets/controls",
            "_model_module_version": "1.5.0",
            "_model_name": "FloatProgressModel",
            "_view_count": null,
            "_view_module": "@jupyter-widgets/controls",
            "_view_module_version": "1.5.0",
            "_view_name": "ProgressView",
            "bar_style": "",
            "description": "",
            "description_tooltip": null,
            "layout": "IPY_MODEL_a032d9b23f7c48c0851f961f767a6e97",
            "max": 1,
            "min": 0,
            "orientation": "horizontal",
            "style": "IPY_MODEL_758f2863b90d408da250aed3d6d015ad",
            "value": 1
          }
        },
        "7fe3f5f2865b4a03a8d4ee17fa679ebd": {
          "model_module": "@jupyter-widgets/base",
          "model_name": "LayoutModel",
          "model_module_version": "1.2.0",
          "state": {
            "_model_module": "@jupyter-widgets/base",
            "_model_module_version": "1.2.0",
            "_model_name": "LayoutModel",
            "_view_count": null,
            "_view_module": "@jupyter-widgets/base",
            "_view_module_version": "1.2.0",
            "_view_name": "LayoutView",
            "align_content": null,
            "align_items": null,
            "align_self": null,
            "border": null,
            "bottom": null,
            "display": null,
            "flex": null,
            "flex_flow": null,
            "grid_area": null,
            "grid_auto_columns": null,
            "grid_auto_flow": null,
            "grid_auto_rows": null,
            "grid_column": null,
            "grid_gap": null,
            "grid_row": null,
            "grid_template_areas": null,
            "grid_template_columns": null,
            "grid_template_rows": null,
            "height": null,
            "justify_content": null,
            "justify_items": null,
            "left": null,
            "margin": null,
            "max_height": null,
            "max_width": null,
            "min_height": null,
            "min_width": null,
            "object_fit": null,
            "object_position": null,
            "order": null,
            "overflow": null,
            "overflow_x": null,
            "overflow_y": null,
            "padding": null,
            "right": null,
            "top": null,
            "visibility": null,
            "width": null
          }
        },
        "0440ba086c2a4f859da91dadff7c67ca": {
          "model_module": "@jupyter-widgets/base",
          "model_name": "LayoutModel",
          "model_module_version": "1.2.0",
          "state": {
            "_model_module": "@jupyter-widgets/base",
            "_model_module_version": "1.2.0",
            "_model_name": "LayoutModel",
            "_view_count": null,
            "_view_module": "@jupyter-widgets/base",
            "_view_module_version": "1.2.0",
            "_view_name": "LayoutView",
            "align_content": null,
            "align_items": null,
            "align_self": null,
            "border": null,
            "bottom": null,
            "display": null,
            "flex": null,
            "flex_flow": null,
            "grid_area": null,
            "grid_auto_columns": null,
            "grid_auto_flow": null,
            "grid_auto_rows": null,
            "grid_column": null,
            "grid_gap": null,
            "grid_row": null,
            "grid_template_areas": null,
            "grid_template_columns": null,
            "grid_template_rows": null,
            "height": null,
            "justify_content": null,
            "justify_items": null,
            "left": null,
            "margin": null,
            "max_height": null,
            "max_width": null,
            "min_height": null,
            "min_width": null,
            "object_fit": null,
            "object_position": null,
            "order": null,
            "overflow": null,
            "overflow_x": null,
            "overflow_y": null,
            "padding": null,
            "right": null,
            "top": null,
            "visibility": null,
            "width": null
          }
        },
        "0c03b4d5672448e7bbe8fbfe70896c3e": {
          "model_module": "@jupyter-widgets/controls",
          "model_name": "DescriptionStyleModel",
          "model_module_version": "1.5.0",
          "state": {
            "_model_module": "@jupyter-widgets/controls",
            "_model_module_version": "1.5.0",
            "_model_name": "DescriptionStyleModel",
            "_view_count": null,
            "_view_module": "@jupyter-widgets/base",
            "_view_module_version": "1.2.0",
            "_view_name": "StyleView",
            "description_width": ""
          }
        },
        "a032d9b23f7c48c0851f961f767a6e97": {
          "model_module": "@jupyter-widgets/base",
          "model_name": "LayoutModel",
          "model_module_version": "1.2.0",
          "state": {
            "_model_module": "@jupyter-widgets/base",
            "_model_module_version": "1.2.0",
            "_model_name": "LayoutModel",
            "_view_count": null,
            "_view_module": "@jupyter-widgets/base",
            "_view_module_version": "1.2.0",
            "_view_name": "LayoutView",
            "align_content": null,
            "align_items": null,
            "align_self": null,
            "border": null,
            "bottom": null,
            "display": null,
            "flex": null,
            "flex_flow": null,
            "grid_area": null,
            "grid_auto_columns": null,
            "grid_auto_flow": null,
            "grid_auto_rows": null,
            "grid_column": null,
            "grid_gap": null,
            "grid_row": null,
            "grid_template_areas": null,
            "grid_template_columns": null,
            "grid_template_rows": null,
            "height": null,
            "justify_content": null,
            "justify_items": null,
            "left": null,
            "margin": null,
            "max_height": null,
            "max_width": null,
            "min_height": null,
            "min_width": null,
            "object_fit": null,
            "object_position": null,
            "order": null,
            "overflow": null,
            "overflow_x": null,
            "overflow_y": null,
            "padding": null,
            "right": null,
            "top": null,
            "visibility": null,
            "width": null
          }
        },
        "758f2863b90d408da250aed3d6d015ad": {
          "model_module": "@jupyter-widgets/controls",
          "model_name": "ProgressStyleModel",
          "model_module_version": "1.5.0",
          "state": {
            "_model_module": "@jupyter-widgets/controls",
            "_model_module_version": "1.5.0",
            "_model_name": "ProgressStyleModel",
            "_view_count": null,
            "_view_module": "@jupyter-widgets/base",
            "_view_module_version": "1.2.0",
            "_view_name": "StyleView",
            "bar_color": null,
            "description_width": ""
          }
        }
      }
    }
  },
  "cells": [
    {
      "cell_type": "code",
      "execution_count": 1,
      "metadata": {
        "id": "zXzLkImqlzaQ"
      },
      "outputs": [],
      "source": [
        "import torch\n",
        "\n",
        "from collections import deque\n",
        "\n",
        "import numpy as np\n",
        "\n",
        "%matplotlib inline\n",
        "\n",
        "import matplotlib\n",
        "import matplotlib.pyplot as plt\n",
        "\n",
        "import gym\n",
        "import pandas as pd\n",
        "from gym import spaces"
      ]
    },
    {
      "cell_type": "code",
      "source": [
        "pip install wandb"
      ],
      "metadata": {
        "colab": {
          "base_uri": "https://localhost:8080/"
        },
        "id": "nL01hvsgT-_t",
        "outputId": "fd5617d9-7801-440e-ae19-e612f9981d8f"
      },
      "execution_count": 2,
      "outputs": [
        {
          "output_type": "stream",
          "name": "stdout",
          "text": [
            "Collecting wandb\n",
            "  Downloading wandb-0.16.1-py3-none-any.whl (2.1 MB)\n",
            "\u001b[2K     \u001b[90m━━━━━━━━━━━━━━━━━━━━━━━━━━━━━━━━━━━━━━━━\u001b[0m \u001b[32m2.1/2.1 MB\u001b[0m \u001b[31m10.4 MB/s\u001b[0m eta \u001b[36m0:00:00\u001b[0m\n",
            "\u001b[?25hRequirement already satisfied: Click!=8.0.0,>=7.1 in /usr/local/lib/python3.10/dist-packages (from wandb) (8.1.7)\n",
            "Collecting GitPython!=3.1.29,>=1.0.0 (from wandb)\n",
            "  Downloading GitPython-3.1.40-py3-none-any.whl (190 kB)\n",
            "\u001b[2K     \u001b[90m━━━━━━━━━━━━━━━━━━━━━━━━━━━━━━━━━━━━━━━━\u001b[0m \u001b[32m190.6/190.6 kB\u001b[0m \u001b[31m18.8 MB/s\u001b[0m eta \u001b[36m0:00:00\u001b[0m\n",
            "\u001b[?25hRequirement already satisfied: requests<3,>=2.0.0 in /usr/local/lib/python3.10/dist-packages (from wandb) (2.31.0)\n",
            "Requirement already satisfied: psutil>=5.0.0 in /usr/local/lib/python3.10/dist-packages (from wandb) (5.9.5)\n",
            "Collecting sentry-sdk>=1.0.0 (from wandb)\n",
            "  Downloading sentry_sdk-1.38.0-py2.py3-none-any.whl (252 kB)\n",
            "\u001b[2K     \u001b[90m━━━━━━━━━━━━━━━━━━━━━━━━━━━━━━━━━━━━━━━━\u001b[0m \u001b[32m252.8/252.8 kB\u001b[0m \u001b[31m24.8 MB/s\u001b[0m eta \u001b[36m0:00:00\u001b[0m\n",
            "\u001b[?25hCollecting docker-pycreds>=0.4.0 (from wandb)\n",
            "  Downloading docker_pycreds-0.4.0-py2.py3-none-any.whl (9.0 kB)\n",
            "Requirement already satisfied: PyYAML in /usr/local/lib/python3.10/dist-packages (from wandb) (6.0.1)\n",
            "Collecting setproctitle (from wandb)\n",
            "  Downloading setproctitle-1.3.3-cp310-cp310-manylinux_2_5_x86_64.manylinux1_x86_64.manylinux_2_17_x86_64.manylinux2014_x86_64.whl (30 kB)\n",
            "Requirement already satisfied: setuptools in /usr/local/lib/python3.10/dist-packages (from wandb) (67.7.2)\n",
            "Requirement already satisfied: appdirs>=1.4.3 in /usr/local/lib/python3.10/dist-packages (from wandb) (1.4.4)\n",
            "Requirement already satisfied: protobuf!=4.21.0,<5,>=3.19.0 in /usr/local/lib/python3.10/dist-packages (from wandb) (3.20.3)\n",
            "Requirement already satisfied: six>=1.4.0 in /usr/local/lib/python3.10/dist-packages (from docker-pycreds>=0.4.0->wandb) (1.16.0)\n",
            "Collecting gitdb<5,>=4.0.1 (from GitPython!=3.1.29,>=1.0.0->wandb)\n",
            "  Downloading gitdb-4.0.11-py3-none-any.whl (62 kB)\n",
            "\u001b[2K     \u001b[90m━━━━━━━━━━━━━━━━━━━━━━━━━━━━━━━━━━━━━━━━\u001b[0m \u001b[32m62.7/62.7 kB\u001b[0m \u001b[31m7.8 MB/s\u001b[0m eta \u001b[36m0:00:00\u001b[0m\n",
            "\u001b[?25hRequirement already satisfied: charset-normalizer<4,>=2 in /usr/local/lib/python3.10/dist-packages (from requests<3,>=2.0.0->wandb) (3.3.2)\n",
            "Requirement already satisfied: idna<4,>=2.5 in /usr/local/lib/python3.10/dist-packages (from requests<3,>=2.0.0->wandb) (3.6)\n",
            "Requirement already satisfied: urllib3<3,>=1.21.1 in /usr/local/lib/python3.10/dist-packages (from requests<3,>=2.0.0->wandb) (2.0.7)\n",
            "Requirement already satisfied: certifi>=2017.4.17 in /usr/local/lib/python3.10/dist-packages (from requests<3,>=2.0.0->wandb) (2023.11.17)\n",
            "Collecting smmap<6,>=3.0.1 (from gitdb<5,>=4.0.1->GitPython!=3.1.29,>=1.0.0->wandb)\n",
            "  Downloading smmap-5.0.1-py3-none-any.whl (24 kB)\n",
            "Installing collected packages: smmap, setproctitle, sentry-sdk, docker-pycreds, gitdb, GitPython, wandb\n",
            "Successfully installed GitPython-3.1.40 docker-pycreds-0.4.0 gitdb-4.0.11 sentry-sdk-1.38.0 setproctitle-1.3.3 smmap-5.0.1 wandb-0.16.1\n"
          ]
        }
      ]
    },
    {
      "cell_type": "code",
      "source": [
        "import wandb\n",
        "wandb.login()\n",
        "run=wandb.init()"
      ],
      "metadata": {
        "id": "BFkF7dZio11f",
        "outputId": "d4b40fda-2c1a-452a-a5f0-638a139503ac",
        "colab": {
          "base_uri": "https://localhost:8080/",
          "height": 412,
          "referenced_widgets": [
            "b6edf9ca6ff34e4fbf1ee5b1c1031829",
            "6674f676924949888c409df594498222",
            "bfe410ea182842008680b3bee7b7e5d9",
            "7ed95078753e44708b0ba7ec9f5569f7",
            "5c48858f8dfc40d8a3c39316d914f092",
            "bad1191ee3a643cbbb7c73823db388c0",
            "5a9f7aa8bcb04075bf9fe51acf9820fc",
            "f329dd3b2e564b209b8dd2762cd0088c"
          ]
        }
      },
      "execution_count": 15,
      "outputs": [
        {
          "output_type": "stream",
          "name": "stderr",
          "text": [
            "\u001b[34m\u001b[1mwandb\u001b[0m: \u001b[33mWARNING\u001b[0m Calling wandb.login() after wandb.init() has no effect.\n"
          ]
        },
        {
          "output_type": "display_data",
          "data": {
            "text/plain": [
              "<IPython.core.display.HTML object>"
            ],
            "text/html": [
              "Finishing last run (ID:9vkdo9ox) before initializing another..."
            ]
          },
          "metadata": {}
        },
        {
          "output_type": "display_data",
          "data": {
            "text/plain": [
              "VBox(children=(Label(value='0.001 MB of 0.011 MB uploaded\\r'), FloatProgress(value=0.08847497089639116, max=1.…"
            ],
            "application/vnd.jupyter.widget-view+json": {
              "version_major": 2,
              "version_minor": 0,
              "model_id": "b6edf9ca6ff34e4fbf1ee5b1c1031829"
            }
          },
          "metadata": {}
        },
        {
          "output_type": "display_data",
          "data": {
            "text/plain": [
              "<IPython.core.display.HTML object>"
            ],
            "text/html": [
              "<style>\n",
              "    table.wandb td:nth-child(1) { padding: 0 10px; text-align: left ; width: auto;} td:nth-child(2) {text-align: left ; width: 100%}\n",
              "    .wandb-row { display: flex; flex-direction: row; flex-wrap: wrap; justify-content: flex-start; width: 100% }\n",
              "    .wandb-col { display: flex; flex-direction: column; flex-basis: 100%; flex: 1; padding: 10px; }\n",
              "    </style>\n",
              "<div class=\"wandb-row\"><div class=\"wandb-col\"><h3>Run history:</h3><br/><table class=\"wandb\"><tr><td>training reward</td><td>▆███▄▇▆█▆███▄█▇█▇████▇▆██▇▅▆▁██▇██▇▇███▇</td></tr><tr><td>training reward moving average</td><td>████▂▄▄▃▄▄▃▄▄▃▄▄▄▅▄▂▂▁▃▄▄▅▄▃▂▂▂▂▃▃▂▂▁▂▃▄</td></tr></table><br/></div><div class=\"wandb-col\"><h3>Run summary:</h3><br/><table class=\"wandb\"><tr><td>training reward</td><td>-9.0</td></tr><tr><td>training reward moving average</td><td>-20.68687</td></tr></table><br/></div></div>"
            ]
          },
          "metadata": {}
        },
        {
          "output_type": "display_data",
          "data": {
            "text/plain": [
              "<IPython.core.display.HTML object>"
            ],
            "text/html": [
              " View run <strong style=\"color:#cdcd00\">lucky-snowflake-18</strong> at: <a href='https://wandb.ai/columbi24/rl-based-artificial-pancreas/runs/9vkdo9ox' target=\"_blank\">https://wandb.ai/columbi24/rl-based-artificial-pancreas/runs/9vkdo9ox</a><br/>Synced 5 W&B file(s), 0 media file(s), 0 artifact file(s) and 0 other file(s)"
            ]
          },
          "metadata": {}
        },
        {
          "output_type": "display_data",
          "data": {
            "text/plain": [
              "<IPython.core.display.HTML object>"
            ],
            "text/html": [
              "Find logs at: <code>./wandb/run-20231206_181247-9vkdo9ox/logs</code>"
            ]
          },
          "metadata": {}
        },
        {
          "output_type": "display_data",
          "data": {
            "text/plain": [
              "<IPython.core.display.HTML object>"
            ],
            "text/html": [
              "Successfully finished last run (ID:9vkdo9ox). Initializing new run:<br/>"
            ]
          },
          "metadata": {}
        },
        {
          "output_type": "display_data",
          "data": {
            "text/plain": [
              "<IPython.core.display.HTML object>"
            ],
            "text/html": [
              "Tracking run with wandb version 0.16.1"
            ]
          },
          "metadata": {}
        },
        {
          "output_type": "display_data",
          "data": {
            "text/plain": [
              "<IPython.core.display.HTML object>"
            ],
            "text/html": [
              "Run data is saved locally in <code>/content/wandb/run-20231206_183317-wob50yxu</code>"
            ]
          },
          "metadata": {}
        },
        {
          "output_type": "display_data",
          "data": {
            "text/plain": [
              "<IPython.core.display.HTML object>"
            ],
            "text/html": [
              "Syncing run <strong><a href='https://wandb.ai/columbi24/uncategorized/runs/wob50yxu' target=\"_blank\">hardy-vortex-114</a></strong> to <a href='https://wandb.ai/columbi24/uncategorized' target=\"_blank\">Weights & Biases</a> (<a href='https://wandb.me/run' target=\"_blank\">docs</a>)<br/>"
            ]
          },
          "metadata": {}
        },
        {
          "output_type": "display_data",
          "data": {
            "text/plain": [
              "<IPython.core.display.HTML object>"
            ],
            "text/html": [
              " View project at <a href='https://wandb.ai/columbi24/uncategorized' target=\"_blank\">https://wandb.ai/columbi24/uncategorized</a>"
            ]
          },
          "metadata": {}
        },
        {
          "output_type": "display_data",
          "data": {
            "text/plain": [
              "<IPython.core.display.HTML object>"
            ],
            "text/html": [
              " View run at <a href='https://wandb.ai/columbi24/uncategorized/runs/wob50yxu' target=\"_blank\">https://wandb.ai/columbi24/uncategorized/runs/wob50yxu</a>"
            ]
          },
          "metadata": {}
        }
      ]
    },
    {
      "cell_type": "code",
      "source": [
        "from google.colab import drive\n",
        "drive.mount('/content/drive')\n",
        "dirname = '/content/drive/MyDrive/'\n",
        "data=pd.read_csv(dirname+\"transition_model_discrete_actions_90_min_history_rewards.csv\",index_col=0)"
      ],
      "metadata": {
        "colab": {
          "base_uri": "https://localhost:8080/"
        },
        "id": "41M1si5B0-vw",
        "outputId": "407ee47e-fe1a-4bb6-a751-5b7e0cc90281"
      },
      "execution_count": 16,
      "outputs": [
        {
          "output_type": "stream",
          "name": "stdout",
          "text": [
            "Drive already mounted at /content/drive; to attempt to forcibly remount, call drive.mount(\"/content/drive\", force_remount=True).\n"
          ]
        }
      ]
    },
    {
      "cell_type": "code",
      "source": [
        "# helper function to get index of state from data\n",
        "def get_state_ind(df, state, s_cols):\n",
        "        temp = df[pd.concat([df[s_col] == v for s_col, v in zip(s_cols, state)], axis=1).all(axis=1)]\n",
        "        if temp.shape[0] > 0:\n",
        "            return temp.sample(1).index[0]\n",
        "        return -1\n",
        "\n",
        "class CustomEnv(gym.Env):\n",
        "    def __init__(self, dataframe, reward='simple_reward'):\n",
        "        super(CustomEnv, self).__init__()\n",
        "        self.df = dataframe\n",
        "\n",
        "        feature_dim = int((max([int(col[4:]) for col in dataframe.columns if 'BG' in col]) + 1) / 2)\n",
        "\n",
        "        self.s_cols = [f'BG_t{i}' for i in range(feature_dim)] + [f'HR_t{i}' for i in range(feature_dim)] + [f'IOB_t{i}' for i in range(feature_dim)]\n",
        "        self.a_col = 'InsulinDelivered'\n",
        "        self.s_prime_cols = [f'BG_t{i}' for i in range(feature_dim, 2*feature_dim)] + [f'HR_t{i}' for i in range(feature_dim, 2*feature_dim)] + [f'IOB_t{i}' for i in range(feature_dim, 2*feature_dim)]\n",
        "        self.reward_col = reward\n",
        "\n",
        "        actions = dataframe[self.a_col]\n",
        "        self.action_space = spaces.Discrete(n=actions.nunique())\n",
        "\n",
        "        bg_min = min([data[f'BG_t{i}'].min() for i in range(feature_dim*2)])\n",
        "        bg_max = max([data[f'BG_t{i}'].max() for i in range(feature_dim*2)])\n",
        "        hr_min = min([data[f'HR_t{i}'].min() for i in range(feature_dim*2)])\n",
        "        hr_max = max([data[f'HR_t{i}'].max() for i in range(feature_dim*2)])\n",
        "        iob_min = min([data[f'IOB_t{i}'].min() for i in range(feature_dim*2)])\n",
        "        iob_max = max([data[f'IOB_t{i}'].max() for i in range(feature_dim*2)])\n",
        "\n",
        "        self.observation_space = spaces.Box(low=np.array([bg_min]*feature_dim + [hr_min]*feature_dim + [iob_min]*feature_dim), high=np.array([bg_max]*feature_dim + [hr_max]*feature_dim + [iob_max]*feature_dim))\n",
        "        self.current_state_ind = None\n",
        "\n",
        "\n",
        "    def reset(self, seed=None):\n",
        "        if seed:\n",
        "            sample = self.df.sample(1, random_state=seed)\n",
        "            s_ind = sample.index[0]\n",
        "            s = sample[self.s_cols].values.flatten()\n",
        "        else:\n",
        "            sample = self.df.sample(1)\n",
        "            s_ind = sample.index[0]\n",
        "            s = sample[self.s_cols].values.flatten()\n",
        "        self.current_state_ind = s_ind\n",
        "        return s\n",
        "\n",
        "    def step(self, action):\n",
        "        # get the next state and reward based on the current state and action\n",
        "        next_state_tx = self.df.iloc[self.current_state_ind]\n",
        "        if next_state_tx[self.a_col] != action:\n",
        "            raise Exception(f\"Cannot take action (InsulinDelivered={action}) as this action doesn't exist for the current state at index {self.current_state_ind}!\")\n",
        "        next_state  = next_state_tx[self.s_prime_cols].values\n",
        "        reward = next_state_tx[self.reward_col]\n",
        "        done = self.is_done()\n",
        "        info = {}\n",
        "\n",
        "        self.current_state_ind = get_state_ind(self.df, next_state, self.s_cols)\n",
        "\n",
        "        if self.current_state_ind == -1: # get closest state to next_state and update next_state\n",
        "            self.current_state_ind = self.get_closest_state_ind(next_state)\n",
        "            next_state = self.df.iloc[self.current_state_ind][self.s_cols].values\n",
        "\n",
        "        return next_state, reward, done, info\n",
        "\n",
        "    def does_action_exist(self, action):\n",
        "        if action in self.df[self.a_col]:\n",
        "            return True\n",
        "        return False\n",
        "\n",
        "    def get_closest_state_ind(self, state):\n",
        "        distances = np.linalg.norm(state - self.df[self.s_cols].values, axis=1)\n",
        "        return np.argsort(distances)[0]\n",
        "\n",
        "\n",
        "    def get_closest_action(self, action):\n",
        "        ind = np.random.choice(np.where((self.df[self.a_col] - action).abs() == (self.df[self.a_col] - action).abs().min())[0])\n",
        "        return data.iloc[ind][self.a_col]\n",
        "\n",
        "    def is_done(self):\n",
        "      return False"
      ],
      "metadata": {
        "colab": {
          "base_uri": "https://localhost:8080/"
        },
        "id": "LfWjiw6b3ydu",
        "outputId": "caa6fcb3-ab2b-49b2-cc3d-880783531e27"
      },
      "execution_count": 17,
      "outputs": [
        {
          "output_type": "stream",
          "name": "stderr",
          "text": [
            "/usr/local/lib/python3.10/dist-packages/ipykernel/ipkernel.py:283: DeprecationWarning: `should_run_async` will not call `transform_cell` automatically in the future. Please pass the result to `transformed_cell` argument and any exception that happen during thetransform in `preprocessing_exc_tuple` in IPython 7.17 and above.\n",
            "  and should_run_async(code)\n"
          ]
        }
      ]
    },
    {
      "cell_type": "code",
      "source": [
        "data"
      ],
      "metadata": {
        "colab": {
          "base_uri": "https://localhost:8080/",
          "height": 443
        },
        "id": "bTMb0J1TIVAs",
        "outputId": "e462ed92-7005-4476-d46a-e05056c5aa29"
      },
      "execution_count": 18,
      "outputs": [
        {
          "output_type": "execute_result",
          "data": {
            "text/plain": [
              "       BG_t0  BG_t1  BG_t2  BG_t3  BG_t4  BG_t5  BG_t6  BG_t7  BG_t8  BG_t9  \\\n",
              "0      127.0  121.0  113.0   99.0   95.0   97.0  101.0  107.0  111.0  118.0   \n",
              "1      132.0  127.0  121.0  113.0   99.0   95.0   97.0  101.0  107.0  111.0   \n",
              "2      130.0  132.0  127.0  121.0  113.0   99.0   95.0   97.0  101.0  107.0   \n",
              "3      120.0  130.0  132.0  127.0  121.0  113.0   99.0   95.0   97.0  101.0   \n",
              "4      106.0  120.0  130.0  132.0  127.0  121.0  113.0   99.0   95.0   97.0   \n",
              "...      ...    ...    ...    ...    ...    ...    ...    ...    ...    ...   \n",
              "45712   63.0   63.0   63.0   63.0   63.0   63.0   63.0   63.0   63.0   63.0   \n",
              "45713   63.0   63.0   63.0   63.0   63.0   63.0   63.0   63.0   63.0   63.0   \n",
              "45714   63.0   63.0   63.0   63.0   63.0   63.0   63.0   63.0   63.0   63.0   \n",
              "45715   63.0   63.0   63.0   63.0   63.0   63.0   63.0   63.0   63.0   63.0   \n",
              "45716   63.0   63.0   63.0   63.0   63.0   63.0   63.0   63.0   63.0   63.0   \n",
              "\n",
              "       ...   IOB_t28   IOB_t29   IOB_t30   IOB_t31   IOB_t32   IOB_t33  \\\n",
              "0      ...  0.491872  0.502033  0.510965  0.531246  0.543538  0.555829   \n",
              "1      ...  0.471303  0.491872  0.502033  0.510965  0.531246  0.543538   \n",
              "2      ...  0.469787  0.471303  0.491872  0.502033  0.510965  0.531246   \n",
              "3      ...  0.458479  0.469787  0.471303  0.491872  0.502033  0.510965   \n",
              "4      ...  0.444016  0.458479  0.469787  0.471303  0.491872  0.502033   \n",
              "...    ...       ...       ...       ...       ...       ...       ...   \n",
              "45712  ...  0.000000  0.000000  0.000000  0.000000  0.000000  0.000000   \n",
              "45713  ...  0.000000  0.000000  0.000000  0.000000  0.000000  0.000000   \n",
              "45714  ...  0.000000  0.000000  0.000000  0.000000  0.000000  0.000000   \n",
              "45715  ...  0.000000  0.000000  0.000000  0.000000  0.000000  0.000000   \n",
              "45716  ...  0.000000  0.000000  0.000000  0.000000  0.000000  0.000000   \n",
              "\n",
              "        IOB_t34   IOB_t35  simple_reward  magni_reward  \n",
              "0      0.568121  0.580412              0    -10.211281  \n",
              "1      0.555829  0.568121              0    -12.579462  \n",
              "2      0.543538  0.555829              0    -12.139707  \n",
              "3      0.531246  0.543538              0    -12.800759  \n",
              "4      0.510965  0.531246              0    -14.602987  \n",
              "...         ...       ...            ...           ...  \n",
              "45712  0.000000  0.000000              0    -33.404175  \n",
              "45713  0.000000  0.000000              0    -33.404175  \n",
              "45714  0.000000  0.000000              0    -33.404175  \n",
              "45715  0.000000  0.000000              0    -33.404175  \n",
              "45716  0.000000  0.000000              0    -33.404175  \n",
              "\n",
              "[45717 rows x 111 columns]"
            ],
            "text/html": [
              "\n",
              "  <div id=\"df-3056ce1f-d41b-44e6-9087-7f5059b30990\" class=\"colab-df-container\">\n",
              "    <div>\n",
              "<style scoped>\n",
              "    .dataframe tbody tr th:only-of-type {\n",
              "        vertical-align: middle;\n",
              "    }\n",
              "\n",
              "    .dataframe tbody tr th {\n",
              "        vertical-align: top;\n",
              "    }\n",
              "\n",
              "    .dataframe thead th {\n",
              "        text-align: right;\n",
              "    }\n",
              "</style>\n",
              "<table border=\"1\" class=\"dataframe\">\n",
              "  <thead>\n",
              "    <tr style=\"text-align: right;\">\n",
              "      <th></th>\n",
              "      <th>BG_t0</th>\n",
              "      <th>BG_t1</th>\n",
              "      <th>BG_t2</th>\n",
              "      <th>BG_t3</th>\n",
              "      <th>BG_t4</th>\n",
              "      <th>BG_t5</th>\n",
              "      <th>BG_t6</th>\n",
              "      <th>BG_t7</th>\n",
              "      <th>BG_t8</th>\n",
              "      <th>BG_t9</th>\n",
              "      <th>...</th>\n",
              "      <th>IOB_t28</th>\n",
              "      <th>IOB_t29</th>\n",
              "      <th>IOB_t30</th>\n",
              "      <th>IOB_t31</th>\n",
              "      <th>IOB_t32</th>\n",
              "      <th>IOB_t33</th>\n",
              "      <th>IOB_t34</th>\n",
              "      <th>IOB_t35</th>\n",
              "      <th>simple_reward</th>\n",
              "      <th>magni_reward</th>\n",
              "    </tr>\n",
              "  </thead>\n",
              "  <tbody>\n",
              "    <tr>\n",
              "      <th>0</th>\n",
              "      <td>127.0</td>\n",
              "      <td>121.0</td>\n",
              "      <td>113.0</td>\n",
              "      <td>99.0</td>\n",
              "      <td>95.0</td>\n",
              "      <td>97.0</td>\n",
              "      <td>101.0</td>\n",
              "      <td>107.0</td>\n",
              "      <td>111.0</td>\n",
              "      <td>118.0</td>\n",
              "      <td>...</td>\n",
              "      <td>0.491872</td>\n",
              "      <td>0.502033</td>\n",
              "      <td>0.510965</td>\n",
              "      <td>0.531246</td>\n",
              "      <td>0.543538</td>\n",
              "      <td>0.555829</td>\n",
              "      <td>0.568121</td>\n",
              "      <td>0.580412</td>\n",
              "      <td>0</td>\n",
              "      <td>-10.211281</td>\n",
              "    </tr>\n",
              "    <tr>\n",
              "      <th>1</th>\n",
              "      <td>132.0</td>\n",
              "      <td>127.0</td>\n",
              "      <td>121.0</td>\n",
              "      <td>113.0</td>\n",
              "      <td>99.0</td>\n",
              "      <td>95.0</td>\n",
              "      <td>97.0</td>\n",
              "      <td>101.0</td>\n",
              "      <td>107.0</td>\n",
              "      <td>111.0</td>\n",
              "      <td>...</td>\n",
              "      <td>0.471303</td>\n",
              "      <td>0.491872</td>\n",
              "      <td>0.502033</td>\n",
              "      <td>0.510965</td>\n",
              "      <td>0.531246</td>\n",
              "      <td>0.543538</td>\n",
              "      <td>0.555829</td>\n",
              "      <td>0.568121</td>\n",
              "      <td>0</td>\n",
              "      <td>-12.579462</td>\n",
              "    </tr>\n",
              "    <tr>\n",
              "      <th>2</th>\n",
              "      <td>130.0</td>\n",
              "      <td>132.0</td>\n",
              "      <td>127.0</td>\n",
              "      <td>121.0</td>\n",
              "      <td>113.0</td>\n",
              "      <td>99.0</td>\n",
              "      <td>95.0</td>\n",
              "      <td>97.0</td>\n",
              "      <td>101.0</td>\n",
              "      <td>107.0</td>\n",
              "      <td>...</td>\n",
              "      <td>0.469787</td>\n",
              "      <td>0.471303</td>\n",
              "      <td>0.491872</td>\n",
              "      <td>0.502033</td>\n",
              "      <td>0.510965</td>\n",
              "      <td>0.531246</td>\n",
              "      <td>0.543538</td>\n",
              "      <td>0.555829</td>\n",
              "      <td>0</td>\n",
              "      <td>-12.139707</td>\n",
              "    </tr>\n",
              "    <tr>\n",
              "      <th>3</th>\n",
              "      <td>120.0</td>\n",
              "      <td>130.0</td>\n",
              "      <td>132.0</td>\n",
              "      <td>127.0</td>\n",
              "      <td>121.0</td>\n",
              "      <td>113.0</td>\n",
              "      <td>99.0</td>\n",
              "      <td>95.0</td>\n",
              "      <td>97.0</td>\n",
              "      <td>101.0</td>\n",
              "      <td>...</td>\n",
              "      <td>0.458479</td>\n",
              "      <td>0.469787</td>\n",
              "      <td>0.471303</td>\n",
              "      <td>0.491872</td>\n",
              "      <td>0.502033</td>\n",
              "      <td>0.510965</td>\n",
              "      <td>0.531246</td>\n",
              "      <td>0.543538</td>\n",
              "      <td>0</td>\n",
              "      <td>-12.800759</td>\n",
              "    </tr>\n",
              "    <tr>\n",
              "      <th>4</th>\n",
              "      <td>106.0</td>\n",
              "      <td>120.0</td>\n",
              "      <td>130.0</td>\n",
              "      <td>132.0</td>\n",
              "      <td>127.0</td>\n",
              "      <td>121.0</td>\n",
              "      <td>113.0</td>\n",
              "      <td>99.0</td>\n",
              "      <td>95.0</td>\n",
              "      <td>97.0</td>\n",
              "      <td>...</td>\n",
              "      <td>0.444016</td>\n",
              "      <td>0.458479</td>\n",
              "      <td>0.469787</td>\n",
              "      <td>0.471303</td>\n",
              "      <td>0.491872</td>\n",
              "      <td>0.502033</td>\n",
              "      <td>0.510965</td>\n",
              "      <td>0.531246</td>\n",
              "      <td>0</td>\n",
              "      <td>-14.602987</td>\n",
              "    </tr>\n",
              "    <tr>\n",
              "      <th>...</th>\n",
              "      <td>...</td>\n",
              "      <td>...</td>\n",
              "      <td>...</td>\n",
              "      <td>...</td>\n",
              "      <td>...</td>\n",
              "      <td>...</td>\n",
              "      <td>...</td>\n",
              "      <td>...</td>\n",
              "      <td>...</td>\n",
              "      <td>...</td>\n",
              "      <td>...</td>\n",
              "      <td>...</td>\n",
              "      <td>...</td>\n",
              "      <td>...</td>\n",
              "      <td>...</td>\n",
              "      <td>...</td>\n",
              "      <td>...</td>\n",
              "      <td>...</td>\n",
              "      <td>...</td>\n",
              "      <td>...</td>\n",
              "      <td>...</td>\n",
              "    </tr>\n",
              "    <tr>\n",
              "      <th>45712</th>\n",
              "      <td>63.0</td>\n",
              "      <td>63.0</td>\n",
              "      <td>63.0</td>\n",
              "      <td>63.0</td>\n",
              "      <td>63.0</td>\n",
              "      <td>63.0</td>\n",
              "      <td>63.0</td>\n",
              "      <td>63.0</td>\n",
              "      <td>63.0</td>\n",
              "      <td>63.0</td>\n",
              "      <td>...</td>\n",
              "      <td>0.000000</td>\n",
              "      <td>0.000000</td>\n",
              "      <td>0.000000</td>\n",
              "      <td>0.000000</td>\n",
              "      <td>0.000000</td>\n",
              "      <td>0.000000</td>\n",
              "      <td>0.000000</td>\n",
              "      <td>0.000000</td>\n",
              "      <td>0</td>\n",
              "      <td>-33.404175</td>\n",
              "    </tr>\n",
              "    <tr>\n",
              "      <th>45713</th>\n",
              "      <td>63.0</td>\n",
              "      <td>63.0</td>\n",
              "      <td>63.0</td>\n",
              "      <td>63.0</td>\n",
              "      <td>63.0</td>\n",
              "      <td>63.0</td>\n",
              "      <td>63.0</td>\n",
              "      <td>63.0</td>\n",
              "      <td>63.0</td>\n",
              "      <td>63.0</td>\n",
              "      <td>...</td>\n",
              "      <td>0.000000</td>\n",
              "      <td>0.000000</td>\n",
              "      <td>0.000000</td>\n",
              "      <td>0.000000</td>\n",
              "      <td>0.000000</td>\n",
              "      <td>0.000000</td>\n",
              "      <td>0.000000</td>\n",
              "      <td>0.000000</td>\n",
              "      <td>0</td>\n",
              "      <td>-33.404175</td>\n",
              "    </tr>\n",
              "    <tr>\n",
              "      <th>45714</th>\n",
              "      <td>63.0</td>\n",
              "      <td>63.0</td>\n",
              "      <td>63.0</td>\n",
              "      <td>63.0</td>\n",
              "      <td>63.0</td>\n",
              "      <td>63.0</td>\n",
              "      <td>63.0</td>\n",
              "      <td>63.0</td>\n",
              "      <td>63.0</td>\n",
              "      <td>63.0</td>\n",
              "      <td>...</td>\n",
              "      <td>0.000000</td>\n",
              "      <td>0.000000</td>\n",
              "      <td>0.000000</td>\n",
              "      <td>0.000000</td>\n",
              "      <td>0.000000</td>\n",
              "      <td>0.000000</td>\n",
              "      <td>0.000000</td>\n",
              "      <td>0.000000</td>\n",
              "      <td>0</td>\n",
              "      <td>-33.404175</td>\n",
              "    </tr>\n",
              "    <tr>\n",
              "      <th>45715</th>\n",
              "      <td>63.0</td>\n",
              "      <td>63.0</td>\n",
              "      <td>63.0</td>\n",
              "      <td>63.0</td>\n",
              "      <td>63.0</td>\n",
              "      <td>63.0</td>\n",
              "      <td>63.0</td>\n",
              "      <td>63.0</td>\n",
              "      <td>63.0</td>\n",
              "      <td>63.0</td>\n",
              "      <td>...</td>\n",
              "      <td>0.000000</td>\n",
              "      <td>0.000000</td>\n",
              "      <td>0.000000</td>\n",
              "      <td>0.000000</td>\n",
              "      <td>0.000000</td>\n",
              "      <td>0.000000</td>\n",
              "      <td>0.000000</td>\n",
              "      <td>0.000000</td>\n",
              "      <td>0</td>\n",
              "      <td>-33.404175</td>\n",
              "    </tr>\n",
              "    <tr>\n",
              "      <th>45716</th>\n",
              "      <td>63.0</td>\n",
              "      <td>63.0</td>\n",
              "      <td>63.0</td>\n",
              "      <td>63.0</td>\n",
              "      <td>63.0</td>\n",
              "      <td>63.0</td>\n",
              "      <td>63.0</td>\n",
              "      <td>63.0</td>\n",
              "      <td>63.0</td>\n",
              "      <td>63.0</td>\n",
              "      <td>...</td>\n",
              "      <td>0.000000</td>\n",
              "      <td>0.000000</td>\n",
              "      <td>0.000000</td>\n",
              "      <td>0.000000</td>\n",
              "      <td>0.000000</td>\n",
              "      <td>0.000000</td>\n",
              "      <td>0.000000</td>\n",
              "      <td>0.000000</td>\n",
              "      <td>0</td>\n",
              "      <td>-33.404175</td>\n",
              "    </tr>\n",
              "  </tbody>\n",
              "</table>\n",
              "<p>45717 rows × 111 columns</p>\n",
              "</div>\n",
              "    <div class=\"colab-df-buttons\">\n",
              "\n",
              "  <div class=\"colab-df-container\">\n",
              "    <button class=\"colab-df-convert\" onclick=\"convertToInteractive('df-3056ce1f-d41b-44e6-9087-7f5059b30990')\"\n",
              "            title=\"Convert this dataframe to an interactive table.\"\n",
              "            style=\"display:none;\">\n",
              "\n",
              "  <svg xmlns=\"http://www.w3.org/2000/svg\" height=\"24px\" viewBox=\"0 -960 960 960\">\n",
              "    <path d=\"M120-120v-720h720v720H120Zm60-500h600v-160H180v160Zm220 220h160v-160H400v160Zm0 220h160v-160H400v160ZM180-400h160v-160H180v160Zm440 0h160v-160H620v160ZM180-180h160v-160H180v160Zm440 0h160v-160H620v160Z\"/>\n",
              "  </svg>\n",
              "    </button>\n",
              "\n",
              "  <style>\n",
              "    .colab-df-container {\n",
              "      display:flex;\n",
              "      gap: 12px;\n",
              "    }\n",
              "\n",
              "    .colab-df-convert {\n",
              "      background-color: #E8F0FE;\n",
              "      border: none;\n",
              "      border-radius: 50%;\n",
              "      cursor: pointer;\n",
              "      display: none;\n",
              "      fill: #1967D2;\n",
              "      height: 32px;\n",
              "      padding: 0 0 0 0;\n",
              "      width: 32px;\n",
              "    }\n",
              "\n",
              "    .colab-df-convert:hover {\n",
              "      background-color: #E2EBFA;\n",
              "      box-shadow: 0px 1px 2px rgba(60, 64, 67, 0.3), 0px 1px 3px 1px rgba(60, 64, 67, 0.15);\n",
              "      fill: #174EA6;\n",
              "    }\n",
              "\n",
              "    .colab-df-buttons div {\n",
              "      margin-bottom: 4px;\n",
              "    }\n",
              "\n",
              "    [theme=dark] .colab-df-convert {\n",
              "      background-color: #3B4455;\n",
              "      fill: #D2E3FC;\n",
              "    }\n",
              "\n",
              "    [theme=dark] .colab-df-convert:hover {\n",
              "      background-color: #434B5C;\n",
              "      box-shadow: 0px 1px 3px 1px rgba(0, 0, 0, 0.15);\n",
              "      filter: drop-shadow(0px 1px 2px rgba(0, 0, 0, 0.3));\n",
              "      fill: #FFFFFF;\n",
              "    }\n",
              "  </style>\n",
              "\n",
              "    <script>\n",
              "      const buttonEl =\n",
              "        document.querySelector('#df-3056ce1f-d41b-44e6-9087-7f5059b30990 button.colab-df-convert');\n",
              "      buttonEl.style.display =\n",
              "        google.colab.kernel.accessAllowed ? 'block' : 'none';\n",
              "\n",
              "      async function convertToInteractive(key) {\n",
              "        const element = document.querySelector('#df-3056ce1f-d41b-44e6-9087-7f5059b30990');\n",
              "        const dataTable =\n",
              "          await google.colab.kernel.invokeFunction('convertToInteractive',\n",
              "                                                    [key], {});\n",
              "        if (!dataTable) return;\n",
              "\n",
              "        const docLinkHtml = 'Like what you see? Visit the ' +\n",
              "          '<a target=\"_blank\" href=https://colab.research.google.com/notebooks/data_table.ipynb>data table notebook</a>'\n",
              "          + ' to learn more about interactive tables.';\n",
              "        element.innerHTML = '';\n",
              "        dataTable['output_type'] = 'display_data';\n",
              "        await google.colab.output.renderOutput(dataTable, element);\n",
              "        const docLink = document.createElement('div');\n",
              "        docLink.innerHTML = docLinkHtml;\n",
              "        element.appendChild(docLink);\n",
              "      }\n",
              "    </script>\n",
              "  </div>\n",
              "\n",
              "\n",
              "<div id=\"df-7a16dd1e-6ddf-4b18-9424-0cac63e692c0\">\n",
              "  <button class=\"colab-df-quickchart\" onclick=\"quickchart('df-7a16dd1e-6ddf-4b18-9424-0cac63e692c0')\"\n",
              "            title=\"Suggest charts\"\n",
              "            style=\"display:none;\">\n",
              "\n",
              "<svg xmlns=\"http://www.w3.org/2000/svg\" height=\"24px\"viewBox=\"0 0 24 24\"\n",
              "     width=\"24px\">\n",
              "    <g>\n",
              "        <path d=\"M19 3H5c-1.1 0-2 .9-2 2v14c0 1.1.9 2 2 2h14c1.1 0 2-.9 2-2V5c0-1.1-.9-2-2-2zM9 17H7v-7h2v7zm4 0h-2V7h2v10zm4 0h-2v-4h2v4z\"/>\n",
              "    </g>\n",
              "</svg>\n",
              "  </button>\n",
              "\n",
              "<style>\n",
              "  .colab-df-quickchart {\n",
              "      --bg-color: #E8F0FE;\n",
              "      --fill-color: #1967D2;\n",
              "      --hover-bg-color: #E2EBFA;\n",
              "      --hover-fill-color: #174EA6;\n",
              "      --disabled-fill-color: #AAA;\n",
              "      --disabled-bg-color: #DDD;\n",
              "  }\n",
              "\n",
              "  [theme=dark] .colab-df-quickchart {\n",
              "      --bg-color: #3B4455;\n",
              "      --fill-color: #D2E3FC;\n",
              "      --hover-bg-color: #434B5C;\n",
              "      --hover-fill-color: #FFFFFF;\n",
              "      --disabled-bg-color: #3B4455;\n",
              "      --disabled-fill-color: #666;\n",
              "  }\n",
              "\n",
              "  .colab-df-quickchart {\n",
              "    background-color: var(--bg-color);\n",
              "    border: none;\n",
              "    border-radius: 50%;\n",
              "    cursor: pointer;\n",
              "    display: none;\n",
              "    fill: var(--fill-color);\n",
              "    height: 32px;\n",
              "    padding: 0;\n",
              "    width: 32px;\n",
              "  }\n",
              "\n",
              "  .colab-df-quickchart:hover {\n",
              "    background-color: var(--hover-bg-color);\n",
              "    box-shadow: 0 1px 2px rgba(60, 64, 67, 0.3), 0 1px 3px 1px rgba(60, 64, 67, 0.15);\n",
              "    fill: var(--button-hover-fill-color);\n",
              "  }\n",
              "\n",
              "  .colab-df-quickchart-complete:disabled,\n",
              "  .colab-df-quickchart-complete:disabled:hover {\n",
              "    background-color: var(--disabled-bg-color);\n",
              "    fill: var(--disabled-fill-color);\n",
              "    box-shadow: none;\n",
              "  }\n",
              "\n",
              "  .colab-df-spinner {\n",
              "    border: 2px solid var(--fill-color);\n",
              "    border-color: transparent;\n",
              "    border-bottom-color: var(--fill-color);\n",
              "    animation:\n",
              "      spin 1s steps(1) infinite;\n",
              "  }\n",
              "\n",
              "  @keyframes spin {\n",
              "    0% {\n",
              "      border-color: transparent;\n",
              "      border-bottom-color: var(--fill-color);\n",
              "      border-left-color: var(--fill-color);\n",
              "    }\n",
              "    20% {\n",
              "      border-color: transparent;\n",
              "      border-left-color: var(--fill-color);\n",
              "      border-top-color: var(--fill-color);\n",
              "    }\n",
              "    30% {\n",
              "      border-color: transparent;\n",
              "      border-left-color: var(--fill-color);\n",
              "      border-top-color: var(--fill-color);\n",
              "      border-right-color: var(--fill-color);\n",
              "    }\n",
              "    40% {\n",
              "      border-color: transparent;\n",
              "      border-right-color: var(--fill-color);\n",
              "      border-top-color: var(--fill-color);\n",
              "    }\n",
              "    60% {\n",
              "      border-color: transparent;\n",
              "      border-right-color: var(--fill-color);\n",
              "    }\n",
              "    80% {\n",
              "      border-color: transparent;\n",
              "      border-right-color: var(--fill-color);\n",
              "      border-bottom-color: var(--fill-color);\n",
              "    }\n",
              "    90% {\n",
              "      border-color: transparent;\n",
              "      border-bottom-color: var(--fill-color);\n",
              "    }\n",
              "  }\n",
              "</style>\n",
              "\n",
              "  <script>\n",
              "    async function quickchart(key) {\n",
              "      const quickchartButtonEl =\n",
              "        document.querySelector('#' + key + ' button');\n",
              "      quickchartButtonEl.disabled = true;  // To prevent multiple clicks.\n",
              "      quickchartButtonEl.classList.add('colab-df-spinner');\n",
              "      try {\n",
              "        const charts = await google.colab.kernel.invokeFunction(\n",
              "            'suggestCharts', [key], {});\n",
              "      } catch (error) {\n",
              "        console.error('Error during call to suggestCharts:', error);\n",
              "      }\n",
              "      quickchartButtonEl.classList.remove('colab-df-spinner');\n",
              "      quickchartButtonEl.classList.add('colab-df-quickchart-complete');\n",
              "    }\n",
              "    (() => {\n",
              "      let quickchartButtonEl =\n",
              "        document.querySelector('#df-7a16dd1e-6ddf-4b18-9424-0cac63e692c0 button');\n",
              "      quickchartButtonEl.style.display =\n",
              "        google.colab.kernel.accessAllowed ? 'block' : 'none';\n",
              "    })();\n",
              "  </script>\n",
              "</div>\n",
              "    </div>\n",
              "  </div>\n"
            ]
          },
          "metadata": {},
          "execution_count": 18
        }
      ]
    },
    {
      "cell_type": "code",
      "source": [
        "def get_action(df, state, env):\n",
        "    state_ind = get_state_ind(df, state, env.s_cols)\n",
        "    return df.iloc[state_ind][env.a_col]"
      ],
      "metadata": {
        "colab": {
          "base_uri": "https://localhost:8080/"
        },
        "id": "FQ3y6VIh492X",
        "outputId": "9758f526-71df-4c8a-fd77-18c047c214cb"
      },
      "execution_count": 19,
      "outputs": [
        {
          "output_type": "stream",
          "name": "stderr",
          "text": [
            "/usr/local/lib/python3.10/dist-packages/ipykernel/ipkernel.py:283: DeprecationWarning: `should_run_async` will not call `transform_cell` automatically in the future. Please pass the result to `transformed_cell` argument and any exception that happen during thetransform in `preprocessing_exc_tuple` in IPython 7.17 and above.\n",
            "  and should_run_async(code)\n"
          ]
        }
      ]
    },
    {
      "cell_type": "code",
      "source": [
        "def run_target_update(Qprincipal, Qtarget):\n",
        "    for v,v_ in zip(Qprincipal.model.parameters(), Qtarget.model.parameters()):\n",
        "        v_.data.copy_(v.data)"
      ],
      "metadata": {
        "id": "I6XAVCYn6yrG"
      },
      "execution_count": 20,
      "outputs": []
    },
    {
      "cell_type": "code",
      "source": [
        "env = CustomEnv(data)\n",
        "observation = env.reset()\n",
        "#print(observation)\n",
        "# action = env.action_space.sample()\n",
        "action = get_action(data, observation, env)\n",
        "next_observation, reward, done, info = env.step(action)"
      ],
      "metadata": {
        "colab": {
          "base_uri": "https://localhost:8080/"
        },
        "id": "IrHyyFqV4-mO",
        "outputId": "0a90b388-5b4a-4f87-c74d-5adb5271b547"
      },
      "execution_count": 21,
      "outputs": [
        {
          "output_type": "stream",
          "name": "stderr",
          "text": [
            "/usr/local/lib/python3.10/dist-packages/gym/spaces/box.py:128: UserWarning: \u001b[33mWARN: Box bound precision lowered by casting to float32\u001b[0m\n",
            "  logger.warn(f\"Box bound precision lowered by casting to {self.dtype}\")\n"
          ]
        }
      ]
    },
    {
      "cell_type": "code",
      "source": [
        "class Policy(object):\n",
        "\n",
        "    def __init__(self, obssize, actsize, lr):\n",
        "        \"\"\"\n",
        "        obssize: size of the states\n",
        "        actsize: size of the actions\n",
        "        \"\"\"\n",
        "        # TODO DEFINE THE MODEL\n",
        "        self.model = torch.nn.Sequential(torch.nn.Linear(obssize, 256),\n",
        "                                         torch.nn.ReLU(),\n",
        "                                         torch.nn.Linear(256, 128),\n",
        "                                         torch.nn.ReLU(),\n",
        "                                         torch.nn.Linear(128, actsize),\n",
        "                                         )\n",
        "        # DEFINE THE OPTIMIZER\n",
        "        self.optimizer = torch.optim.Adam(self.model.parameters(), lr=lr)\n",
        "\n",
        "        # RECORD HYPER-PARAMS\n",
        "        self.obssize = obssize\n",
        "        self.actsize = actsize\n",
        "\n",
        "        # TEST\n",
        "        self.compute_prob(np.random.randn(obssize).reshape(1, -1))\n",
        "\n",
        "    def compute_prob(self, states):\n",
        "        \"\"\"\n",
        "        compute prob distribution over all actions given state: pi(s)\n",
        "        states: numpy array of size [numsamples, obssize]\n",
        "        return: numpy array of size [numsamples, actsize]\n",
        "        \"\"\"\n",
        "        states = torch.FloatTensor(states)\n",
        "        prob = torch.nn.functional.softmax(self.model(states), dim=-1)\n",
        "        return prob.cpu().data.numpy()\n",
        "\n",
        "    def _to_one_hot(self, y, num_classes):\n",
        "        \"\"\"\n",
        "        convert an integer vector y into one-hot representation\n",
        "        \"\"\"\n",
        "        scatter_dim = len(y.size())\n",
        "        y_tensor = y.view(*y.size(), -1)\n",
        "        zeros = torch.zeros(*y.size(), num_classes, dtype=y.dtype)\n",
        "        return zeros.scatter(scatter_dim, y_tensor, 1)\n",
        "\n",
        "    def train(self, states, actions, Qs):\n",
        "        \"\"\"\n",
        "        states: numpy array (states)\n",
        "        actions: numpy array (actions)\n",
        "        Qs: numpy array (Q values)\n",
        "        \"\"\"\n",
        "        states = torch.FloatTensor(states)\n",
        "        actions = torch.LongTensor(actions)\n",
        "        Qs = torch.FloatTensor(Qs)\n",
        "\n",
        "        # COMPUTE probability vector pi(s) for all s in states\n",
        "        logits = self.model(states)\n",
        "        prob = torch.nn.functional.softmax(logits, dim=-1)\n",
        "\n",
        "        # Compute probaility pi(s,a) for all s,a\n",
        "        action_onehot = self._to_one_hot(actions, actsize)\n",
        "        prob_selected = torch.sum(prob * action_onehot, axis=-1)\n",
        "\n",
        "        # FOR ROBUSTNESS\n",
        "        prob_selected += 1e-8\n",
        "\n",
        "        loss = -torch.mean(torch.log(prob_selected) * Qs)\n",
        "\n",
        "        # BACKWARD PASS\n",
        "        self.optimizer.zero_grad()\n",
        "        loss.backward()\n",
        "\n",
        "        # UPDATE\n",
        "        self.optimizer.step()\n",
        "\n",
        "        return loss.detach().cpu().data.numpy()"
      ],
      "metadata": {
        "id": "icFnRZJoPbe0",
        "colab": {
          "base_uri": "https://localhost:8080/"
        },
        "outputId": "f37306b9-f8e6-42fc-bf41-5e11ebd5f32a"
      },
      "execution_count": 22,
      "outputs": [
        {
          "output_type": "stream",
          "name": "stderr",
          "text": [
            "/usr/local/lib/python3.10/dist-packages/ipykernel/ipkernel.py:283: DeprecationWarning: `should_run_async` will not call `transform_cell` automatically in the future. Please pass the result to `transformed_cell` argument and any exception that happen during thetransform in `preprocessing_exc_tuple` in IPython 7.17 and above.\n",
            "  and should_run_async(code)\n"
          ]
        }
      ]
    },
    {
      "cell_type": "code",
      "source": [
        "class ValueFunction(object):\n",
        "\n",
        "    def __init__(self, obssize, lr):\n",
        "        \"\"\"\n",
        "        obssize: size of states\n",
        "        \"\"\"\n",
        "        self.model = torch.nn.Sequential(torch.nn.Linear(obssize, 256),\n",
        "                                         torch.nn.ReLU(),\n",
        "                                         torch.nn.Linear(256, 128),\n",
        "                                         torch.nn.ReLU(),\n",
        "                                         torch.nn.Linear(128, 1),\n",
        "                                         )\n",
        "\n",
        "        # DEFINE THE OPTIMIZER\n",
        "        self.optimizer = torch.optim.Adam(self.model.parameters(), lr=lr)\n",
        "\n",
        "        # RECORD HYPER-PARAMS\n",
        "        self.obssize = obssize\n",
        "        self.actsize = actsize\n",
        "\n",
        "        # TEST\n",
        "        self.compute_values(np.random.randn(obssize).reshape(1, -1))\n",
        "\n",
        "    def compute_values(self, states):\n",
        "        \"\"\"\n",
        "        compute value function for given states\n",
        "        states: numpy array of size [numsamples, obssize]\n",
        "        return: numpy array of size [numsamples]\n",
        "        \"\"\"\n",
        "        states = torch.FloatTensor(states)\n",
        "        return self.model(states).cpu().data.numpy()\n",
        "\n",
        "    def train(self, states, targets):\n",
        "        \"\"\"\n",
        "        states: numpy array\n",
        "        targets: numpy array\n",
        "        \"\"\"\n",
        "        states = torch.FloatTensor(states)\n",
        "        targets = torch.FloatTensor(targets)\n",
        "\n",
        "        # COMPUTE Value PREDICTIONS for states\n",
        "        v_preds = self.model(states)\n",
        "\n",
        "        # LOSS\n",
        "        loss = torch.mean(torch.square(v_preds - targets))\n",
        "\n",
        "        # BACKWARD PASS\n",
        "        self.optimizer.zero_grad()\n",
        "        loss.backward()\n",
        "\n",
        "        # UPDATE\n",
        "        self.optimizer.step()\n",
        "\n",
        "        return loss.detach().cpu().data.numpy()"
      ],
      "metadata": {
        "id": "wYoE1zrbVeUo"
      },
      "execution_count": 23,
      "outputs": []
    },
    {
      "cell_type": "code",
      "source": [
        "def discounted_rewards(r, gamma):\n",
        "    \"\"\" take 1D float array of rewards and compute discounted reward \"\"\"\n",
        "    discounted_r = np.zeros_like(r)\n",
        "    running_sum = 0\n",
        "    for i in reversed(range(0,len(r))):\n",
        "        discounted_r[i] = running_sum * gamma + r[i]\n",
        "        running_sum = discounted_r[i]\n",
        "    return list(discounted_r)"
      ],
      "metadata": {
        "id": "zDwzUuK8S6xD"
      },
      "execution_count": 24,
      "outputs": []
    },
    {
      "cell_type": "code",
      "source": [
        "%%wandb\n",
        "\n",
        "\n",
        "\n",
        "# parameter initializations (you can change any of these)\n",
        "alpha = 1e-2  # learning rate for PG\n",
        "beta = 1e-3  # learning rate for baseline\n",
        "numtrajs = 5  # num of trajecories from the current policy to collect in each iteration\n",
        "iterations = 100  # total num of iterations\n",
        "gamma = .99  # discount\n",
        "\n",
        "# initialize environment\n",
        "obssize = env.observation_space.low.size\n",
        "actsize = env.action_space.n\n",
        "\n",
        "# initialize networks\n",
        "actor = Policy(obssize, actsize, alpha)  # policy initialization: IMPORTANT: this is the policy you will be scored on\n",
        "baseline = ValueFunction(obssize, beta)  # baseline initialization\n",
        "\n",
        "insulin_delivered_to_action_mapper = {data['InsulinDelivered'].unique()[i]: i for i in range(data['InsulinDelivered'].nunique())}\n",
        "action_to_insulin_delivered_mapper = {v: k for k, v in insulin_delivered_to_action_mapper.items()}\n",
        "\n",
        "run = wandb.init(\n",
        "    # set the wandb project where this run will be logged\n",
        "    project=\"rl-based-artificial-pancreas\",\n",
        "\n",
        "    # track hyperparameters and run metadata\n",
        "    config={\n",
        "    \"method\": \"policy-gradient\",\n",
        "    \"alpha\": alpha,\n",
        "    \"beta\": beta,\n",
        "    \"num_trajs\": numtrajs,\n",
        "    \"iterations\": iterations,\n",
        "    \"gamma\": gamma,\n",
        "    }\n",
        ")\n",
        "\n",
        "#To record training reward for logging and plotting purposes\n",
        "rrecord = []\n",
        "\n",
        "# main iteration\n",
        "for ite in range(iterations):\n",
        "    print(ite)\n",
        "    # To record trajectories generated from current policy\n",
        "    OBS = []  # observations\n",
        "    ACTS = []  # actions\n",
        "    ADS = []  # advantages (to compute policy gradient)\n",
        "    VAL = []  # Monte carlo value predictions (to compute baseline, and policy gradient)\n",
        "\n",
        "    for num in range(numtrajs):\n",
        "        # To keep a record of states actions and reward for each episode\n",
        "        obss = []  # states\n",
        "        acts = []   # actions\n",
        "        rews = []  # instant rewards\n",
        "\n",
        "        obs = env.reset()\n",
        "        done = False\n",
        "\n",
        "        # TODO: run one episode using the current policy \"actor\"\n",
        "        for i in range(50):\n",
        "            prob = actor.compute_prob(np.expand_dims(obs, 0))\n",
        "            prob /= np.sum(prob)  # normalizing again to account for numerical errors\n",
        "            action = get_action(data, obs, env)    # np.ndarray.item(np.random.choice(actsize, p=prob.flatten(), size=1))   choose according to the distribution prob\n",
        "            obss.append(obs)\n",
        "            acts.append(insulin_delivered_to_action_mapper[action])\n",
        "            obs, reward, done, info = env.step(action)\n",
        "            rews.append(reward)\n",
        "\n",
        "        # TODO: record all observations (states, actions, rewards) from the epsiode in  obss, acts, rews\n",
        "        OBS.extend(obss)\n",
        "        ACTS.extend(acts)\n",
        "        #Below is for logging training performance\n",
        "        rrecord.append(np.sum(rews))\n",
        "\n",
        "        # TODO:  Use discounted_rewards function to compute \\hat{V}s/\\hat{Q}s  from instant rewards in rews\n",
        "        discounted_rewards_list = discounted_rewards(rews, gamma)\n",
        "        VAL.extend(discounted_rewards_list)\n",
        "        # TODO: record the computed \\hat{V}s in VAL, states obss in OBS, and actions acts in ACTS, for batch update\n",
        "\n",
        "    # AFTER collecting numtrajs trajectories:\n",
        "\n",
        "    #1. TODO: train baseline\n",
        "    baseline.train(np.array(OBS), np.array(VAL))\n",
        "    \"\"\"\n",
        "        Use the batch (OBS, VAL) of states and value predictions as targets to train baseline.S\n",
        "        Use baseline.train : note that this takes as input numpy array, so you may have to convert\n",
        "        lists into numpy array using np.array()\n",
        "    \"\"\"\n",
        "\n",
        "    # 2.TODO: Update the policy\n",
        "    baselines = baseline.compute_values(np.array(OBS))\n",
        "    advantages = np.array(VAL) - baselines\n",
        "    actor.train(np.array(OBS), np.array(ACTS), advantages)\n",
        "    \"\"\"\n",
        "        Compute baselines: use basline.compute_values for states in the batch OBS\n",
        "        Compute advantages ADS using VAL and computed baselines\n",
        "        Update policy using actor.train using OBS, ACTS and ADS\n",
        "    \"\"\"\n",
        "\n",
        "\n",
        "\n",
        "\n",
        "    #printing moving averages for smoothed visualization.\n",
        "    #Do not change below: this assume you recorded the sum of rewards in each episide in the list rrecord\n",
        "    fixedWindow=100\n",
        "    movingAverage=0\n",
        "    if len(rrecord) >= fixedWindow:\n",
        "        movingAverage=np.mean(rrecord[len(rrecord)-fixedWindow:len(rrecord)-1])\n",
        "\n",
        "    #wandb logging\n",
        "    wandb.log({ \"training reward\" : rrecord[-1], \"training reward moving average\" : movingAverage})"
      ],
      "metadata": {
        "id": "8xa8YB0OTQ70",
        "colab": {
          "base_uri": "https://localhost:8080/",
          "height": 1000,
          "referenced_widgets": [
            "134c0046414e4a089864a2106d745374",
            "ae061a8eb7274a4988e70e734bfd2649",
            "35dcb0d2f5c245b3824e7e2382e59b9d",
            "7fe3f5f2865b4a03a8d4ee17fa679ebd",
            "0440ba086c2a4f859da91dadff7c67ca",
            "0c03b4d5672448e7bbe8fbfe70896c3e",
            "a032d9b23f7c48c0851f961f767a6e97",
            "758f2863b90d408da250aed3d6d015ad"
          ]
        },
        "outputId": "538caf27-7639-47c9-826e-a6dcfbc4da05"
      },
      "execution_count": null,
      "outputs": [
        {
          "output_type": "display_data",
          "data": {
            "text/plain": [
              "<wandb.jupyter.IFrame at 0x79a78b01caf0>"
            ],
            "text/html": [
              "<iframe src='https://wandb.ai/columbi24/rl-based-artificial-pancreas/runs/onekppx0?jupyter=true' style='border:none;width:100%;height:420px;'></iframe>"
            ]
          },
          "metadata": {}
        },
        {
          "output_type": "display_data",
          "data": {
            "text/plain": [
              "<IPython.core.display.HTML object>"
            ],
            "text/html": [
              "Finishing last run (ID:onekppx0) before initializing another..."
            ]
          },
          "metadata": {}
        },
        {
          "output_type": "display_data",
          "data": {
            "text/plain": [
              "VBox(children=(Label(value='0.001 MB of 0.001 MB uploaded\\r'), FloatProgress(value=1.0, max=1.0)))"
            ],
            "application/vnd.jupyter.widget-view+json": {
              "version_major": 2,
              "version_minor": 0,
              "model_id": "134c0046414e4a089864a2106d745374"
            }
          },
          "metadata": {}
        },
        {
          "output_type": "display_data",
          "data": {
            "text/plain": [
              "<IPython.core.display.HTML object>"
            ],
            "text/html": [
              "<style>\n",
              "    table.wandb td:nth-child(1) { padding: 0 10px; text-align: left ; width: auto;} td:nth-child(2) {text-align: left ; width: 100%}\n",
              "    .wandb-row { display: flex; flex-direction: row; flex-wrap: wrap; justify-content: flex-start; width: 100% }\n",
              "    .wandb-col { display: flex; flex-direction: column; flex-basis: 100%; flex: 1; padding: 10px; }\n",
              "    </style>\n",
              "<div class=\"wandb-row\"><div class=\"wandb-col\"><h3>Run history:</h3><br/><table class=\"wandb\"><tr><td>training reward</td><td>█▁</td></tr><tr><td>training reward moving average</td><td>▁▁</td></tr></table><br/></div><div class=\"wandb-col\"><h3>Run summary:</h3><br/><table class=\"wandb\"><tr><td>training reward</td><td>-69.0</td></tr><tr><td>training reward moving average</td><td>0</td></tr></table><br/></div></div>"
            ]
          },
          "metadata": {}
        },
        {
          "output_type": "display_data",
          "data": {
            "text/plain": [
              "<IPython.core.display.HTML object>"
            ],
            "text/html": [
              " View run <strong style=\"color:#cdcd00\">proud-river-24</strong> at: <a href='https://wandb.ai/columbi24/rl-based-artificial-pancreas/runs/onekppx0' target=\"_blank\">https://wandb.ai/columbi24/rl-based-artificial-pancreas/runs/onekppx0</a><br/>Synced 5 W&B file(s), 0 media file(s), 0 artifact file(s) and 0 other file(s)"
            ]
          },
          "metadata": {}
        },
        {
          "output_type": "display_data",
          "data": {
            "text/plain": [
              "<IPython.core.display.HTML object>"
            ],
            "text/html": [
              "Find logs at: <code>./wandb/run-20231206_193919-onekppx0/logs</code>"
            ]
          },
          "metadata": {}
        },
        {
          "output_type": "display_data",
          "data": {
            "text/plain": [
              "<IPython.core.display.HTML object>"
            ],
            "text/html": [
              "Successfully finished last run (ID:onekppx0). Initializing new run:<br/>"
            ]
          },
          "metadata": {}
        },
        {
          "output_type": "display_data",
          "data": {
            "text/plain": [
              "<IPython.core.display.HTML object>"
            ],
            "text/html": [
              "Tracking run with wandb version 0.16.1"
            ]
          },
          "metadata": {}
        },
        {
          "output_type": "display_data",
          "data": {
            "text/plain": [
              "<IPython.core.display.HTML object>"
            ],
            "text/html": [
              "Run data is saved locally in <code>/content/wandb/run-20231206_194019-n0xvzwdm</code>"
            ]
          },
          "metadata": {}
        },
        {
          "output_type": "display_data",
          "data": {
            "text/plain": [
              "<IPython.core.display.HTML object>"
            ],
            "text/html": [
              "Syncing run <strong><a href='https://wandb.ai/columbi24/rl-based-artificial-pancreas/runs/n0xvzwdm' target=\"_blank\">visionary-feather-25</a></strong> to <a href='https://wandb.ai/columbi24/rl-based-artificial-pancreas' target=\"_blank\">Weights & Biases</a> (<a href='https://wandb.me/run' target=\"_blank\">docs</a>)<br/>"
            ]
          },
          "metadata": {}
        },
        {
          "output_type": "display_data",
          "data": {
            "text/plain": [
              "<IPython.core.display.HTML object>"
            ],
            "text/html": [
              " View project at <a href='https://wandb.ai/columbi24/rl-based-artificial-pancreas' target=\"_blank\">https://wandb.ai/columbi24/rl-based-artificial-pancreas</a>"
            ]
          },
          "metadata": {}
        },
        {
          "output_type": "display_data",
          "data": {
            "text/plain": [
              "<IPython.core.display.HTML object>"
            ],
            "text/html": [
              " View run at <a href='https://wandb.ai/columbi24/rl-based-artificial-pancreas/runs/n0xvzwdm' target=\"_blank\">https://wandb.ai/columbi24/rl-based-artificial-pancreas/runs/n0xvzwdm</a>"
            ]
          },
          "metadata": {}
        },
        {
          "output_type": "stream",
          "name": "stdout",
          "text": [
            "0\n",
            "1\n",
            "2\n",
            "3\n",
            "4\n",
            "5\n",
            "6\n",
            "7\n",
            "8\n",
            "9\n",
            "10\n",
            "11\n",
            "12\n",
            "13\n",
            "14\n",
            "15\n",
            "16\n",
            "17\n",
            "18\n",
            "19\n",
            "20\n",
            "21\n",
            "22\n",
            "23\n",
            "24\n",
            "25\n",
            "26\n",
            "27\n",
            "28\n",
            "29\n",
            "30\n",
            "31\n",
            "32\n",
            "33\n",
            "34\n",
            "35\n",
            "36\n",
            "37\n",
            "38\n",
            "39\n",
            "40\n",
            "41\n",
            "42\n",
            "43\n",
            "44\n",
            "45\n",
            "46\n",
            "47\n",
            "48\n",
            "49\n",
            "50\n",
            "51\n",
            "52\n",
            "53\n",
            "54\n",
            "55\n",
            "56\n",
            "57\n",
            "58\n",
            "59\n",
            "60\n",
            "61\n",
            "62\n",
            "63\n",
            "64\n",
            "65\n"
          ]
        }
      ]
    },
    {
      "cell_type": "code",
      "source": [
        "# DO NOT CHANGE CODE HERE\n",
        "\n",
        "### DO NOT CHANGE\n",
        "def evaluate(policy, env, episodes):\n",
        "    # main iteration\n",
        "    score = 0\n",
        "    for episode in range(episodes):\n",
        "        obs = env.reset()\n",
        "        done = False\n",
        "        rsum = 0\n",
        "\n",
        "        while not done:\n",
        "            p = policy.compute_prob(np.expand_dims(obs,0)).ravel()\n",
        "            p /= np.sum(p)\n",
        "            states=env.reset()\n",
        "            action = get_action(data, states, env)\n",
        "\n",
        "            # env stepping forward\n",
        "            newobs, r, done, _ = env.step(action)\n",
        "\n",
        "            # update data\n",
        "            rsum += r\n",
        "            obs = newobs\n",
        "            # temp=data.loc[0,[f'BG_t{i}' for i in range(18,36)]].values.tolist()\n",
        "            done=all(obs[i]>90 and obs[i]<120 for i in range(17))\n",
        "\n",
        "\n",
        "        wandb.log({\"eval reward\" : rsum})\n",
        "        score +=rsum\n",
        "    score = score/episodes\n",
        "\n",
        "    return score"
      ],
      "metadata": {
        "id": "suSy_PTX7zgz"
      },
      "execution_count": 25,
      "outputs": []
    },
    {
      "cell_type": "code",
      "source": [
        "# DO NOT CHANGE CODE HERE\n",
        "# after training, we will evaluate the performance of the learned policy \"actor\"\n",
        "# on a target environment\n",
        "env_test = CustomEnv(data)\n",
        "eval_episodes = 1000\n",
        "score = evaluate(actor, env_test, eval_episodes)\n",
        "wandb.run.summary[\"score\"]=score\n",
        "print(\"eval performance of the learned policy: {}\".format(score))"
      ],
      "metadata": {
        "colab": {
          "base_uri": "https://localhost:8080/"
        },
        "id": "ATZVv1ih8SBK",
        "outputId": "80abad40-2cda-4977-a7cf-16fa3937f180"
      },
      "execution_count": 26,
      "outputs": [
        {
          "output_type": "stream",
          "name": "stderr",
          "text": [
            "/usr/local/lib/python3.10/dist-packages/gym/spaces/box.py:128: UserWarning: \u001b[33mWARN: Box bound precision lowered by casting to float32\u001b[0m\n",
            "  logger.warn(f\"Box bound precision lowered by casting to {self.dtype}\")\n"
          ]
        },
        {
          "output_type": "stream",
          "name": "stdout",
          "text": [
            "eval performance of the learned policy: -1.484\n"
          ]
        }
      ]
    },
    {
      "cell_type": "code",
      "source": [
        "run.finish()"
      ],
      "metadata": {
        "id": "DJ_JyWMut4AS"
      },
      "execution_count": null,
      "outputs": []
    },
    {
      "cell_type": "code",
      "source": [],
      "metadata": {
        "id": "hOyZvGrruEO0"
      },
      "execution_count": null,
      "outputs": []
    }
  ]
}